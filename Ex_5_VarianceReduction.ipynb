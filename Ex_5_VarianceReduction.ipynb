{
 "cells": [
  {
   "cell_type": "markdown",
   "id": "f1a1996c",
   "metadata": {},
   "source": [
    "#### Exercise 5: Variance reduction methods\n"
   ]
  },
  {
   "cell_type": "markdown",
   "id": "12097d68",
   "metadata": {},
   "source": [
    "1. Estimate the integral $\\int_{0}^{1} e^x dx $ by simulation (the _crude_ Monte Carlo estimator). Use, for example, an estimator based on 100 samples and present your result as the point estimator and confidence interval  \n"
   ]
  },
  {
   "cell_type": "code",
   "execution_count": 92,
   "id": "3442d1c5",
   "metadata": {},
   "outputs": [],
   "source": [
    "import numpy as np\n",
    "from scipy import stats\n",
    "from matplotlib import pyplot as plt\n",
    "from scipy.stats import t\n",
    "np.random.seed(42)"
   ]
  },
  {
   "cell_type": "markdown",
   "id": "c50221e5",
   "metadata": {},
   "source": [
    "#### Crude Monte Carlo estimator\n",
    "\n",
    "We can interpret this interval as\n",
    "\n",
    "$$\n",
    "\\theta = \\int_{0}^{1} e^{x} \\: dx = \\mathrm{E}(e^{u}) \\hspace{0.3cm} , \\hspace{0.3cm} U \\in \\mathrm{U}(0,1)\n",
    "$$\n",
    "\n",
    "To estimate the integral obtain the sample of the random variable $e^{U}$ and take the average.\n",
    "\n",
    "$$\n",
    "X_{i} = e^{U_{i}} \\hspace{0.3cm} , \\hspace{0.3cm} \\bar{X} = \\frac{\\sum_{i=1}^{n} X_{i}}{n}\n",
    "$$"
   ]
  },
  {
   "cell_type": "code",
   "execution_count": 45,
   "id": "83f4bfc7",
   "metadata": {},
   "outputs": [],
   "source": [
    "# the integral\n",
    "\n",
    "# no. of samples\n",
    "n = 100\n",
    "\n",
    "# no. of samples obtained from uniform distribution\n",
    "U = np.random.uniform(0, 1, n)\n",
    "\n",
    "#  sample of the random variable e^U\n",
    "eU = np.exp(U)\n",
    "\n",
    "# Crude method\n",
    "X_bar = sum(eU) / n\n",
    "\n",
    "# analytic solution\n",
    "analytic_sol = np.exp(1) - 1\n"
   ]
  },
  {
   "cell_type": "code",
   "execution_count": 46,
   "id": "b8d5ea3e",
   "metadata": {},
   "outputs": [],
   "source": [
    "# CI for 95%\n",
    "def CI(data, alpha = 0.05):\n",
    "    mean = np.mean(data)                                          # mean\n",
    "    std = np.std(data)                                            # standard deviation\n",
    "    variance = np.var(data)                                       # variance\n",
    "    chi_squared = stats.t.ppf(1 - alpha/2, n -1)                  # variance\n",
    "    lower = mean - chi_squared * (std / np.sqrt(len(data)))       # lower\n",
    "    upper = mean + chi_squared * (std / np.sqrt(len(data)))       # upper    \n",
    "    return mean, lower, upper, variance\n",
    "\n",
    "# Obtain the CI and variance from crude method\n",
    "mean, lower, upper, variance = CI(eU)"
   ]
  },
  {
   "cell_type": "code",
   "execution_count": 47,
   "id": "774e1f0b",
   "metadata": {},
   "outputs": [
    {
     "name": "stdout",
     "output_type": "stream",
     "text": [
      "The estimate for the integral of exp(x) from 0 -> 1 is: 1.6721\n",
      "The variance of the estimate is: 0.2476\n",
      "The 95% CI for the crude Monte Carlo method is: [1.5733, 1.7708]\n",
      "The analytical solution for the integral: 1.7183\n"
     ]
    }
   ],
   "source": [
    "print(f\"The estimate for the integral of exp(x) from 0 -> 1 is: {X_bar:.4f}\")\n",
    "print(f\"The variance of the estimate is: {variance:.4f}\")\n",
    "print(f\"The 95% CI for the crude Monte Carlo method is: [{lower:.4f}, {upper:.4f}]\")\n",
    "print(f\"The analytical solution for the integral: {analytic_sol:.4f}\")"
   ]
  },
  {
   "cell_type": "markdown",
   "id": "f851f990",
   "metadata": {},
   "source": [
    "Confident Interval"
   ]
  },
  {
   "cell_type": "markdown",
   "id": "c3136aec",
   "metadata": {},
   "source": [
    "2. Estimate the integral $\\int_{0}^{1} e^x dx $  using antithetic variables, with comparable computer ressources."
   ]
  },
  {
   "cell_type": "markdown",
   "id": "88d83e3f",
   "metadata": {},
   "source": [
    "We now estimate\n",
    "\n",
    "$$\n",
    "\\theta = \\mathrm{E}(Y)\n",
    "$$\n",
    "\n",
    "where we have two generated samples $Y_{1}$ and $Y_{2}$. An unbiased estimate of $\\theta$ is then\n",
    "\n",
    "$$\n",
    "\\hat{\\theta} = \\frac{ Y_{1} + Y_{2} }{ 2 }\n",
    "$$\n",
    "\n",
    "Moreover, since the estimator is positively correlated with $U_{i}$ (monotone function), we can use $1-U$ thus\n",
    "\n",
    "$$\n",
    "Y_{i} = \\frac{e^{U_{i}} + e^{1 - U_{i}}}{2} =  \\frac{ e^{U_{i}} + \\frac{e}{e^{U_{i}}}}{2} \\hspace{0.3cm} , \\hspace{0.3cm} \\bar{Y} = \\frac{\\sum_{i=1}^{n} Y_{i}}{n}\n",
    "$$\n"
   ]
  },
  {
   "cell_type": "code",
   "execution_count": null,
   "id": "9972fb8e",
   "metadata": {},
   "outputs": [],
   "source": [
    "# no. of samples\n",
    "n = 100\n",
    "\n",
    "# no. of samples obtained from uniform distribution\n",
    "U = np.random.uniform(0, 1, n)\n",
    "\n",
    "# Obtain Y\n",
    "Y = ( np.exp(U) + np.exp(1-U) )/ 2\n",
    "\n",
    "# the mean\n",
    "Y_bar = np.mean(Y)"
   ]
  },
  {
   "cell_type": "code",
   "execution_count": 51,
   "id": "f7a88fd7",
   "metadata": {},
   "outputs": [],
   "source": [
    "# CI for 95%\n",
    "def CI(data, alpha = 0.05):\n",
    "    mean = np.mean(data)                                          # mean\n",
    "    std = np.std(data)                                            # standard deviation\n",
    "    variance = np.var(data)                                       # variance\n",
    "    chi_squared = stats.t.ppf(1 - alpha/2, n -1)                  # variance\n",
    "    lower = mean - chi_squared * (std / np.sqrt(len(data)))       # lower\n",
    "    upper = mean + chi_squared * (std / np.sqrt(len(data)))       # upper    \n",
    "    return mean, lower, upper, variance\n",
    "\n",
    "# Obtain the CI and variance from crude method\n",
    "mean, lower, upper, variance = CI(Y)"
   ]
  },
  {
   "cell_type": "code",
   "execution_count": 52,
   "id": "6bcd3073",
   "metadata": {},
   "outputs": [
    {
     "name": "stdout",
     "output_type": "stream",
     "text": [
      "The estimate for the integral of exp(x) from 0 -> 1 is: 1.7197\n",
      "The variance of the estimate is: 0.0036\n",
      "The 95% CI for the crude Monte Carlo method is: [1.7079, 1.7315]\n"
     ]
    }
   ],
   "source": [
    "print(f\"The estimate for the integral of exp(x) from 0 -> 1 is: {Y_bar:.4f}\")\n",
    "print(f\"The variance of the estimate is: {variance:.4f}\")\n",
    "print(f\"The 95% CI for the crude Monte Carlo method is: [{lower:.4f}, {upper:.4f}]\")\n"
   ]
  },
  {
   "cell_type": "markdown",
   "id": "4bece172",
   "metadata": {},
   "source": [
    "3. Estimate the integral $\\int_{0}^{1} e^x dx $ using a control variable, with comparable computer ressources."
   ]
  },
  {
   "cell_type": "markdown",
   "id": "4f114a60",
   "metadata": {},
   "source": [
    "Use $U$ as the control variable. Here $Y_{i} = U_{i}$ thus $\\mu_{y} = \\frac{1}{2}$.\n",
    "\n",
    "$$\n",
    "Z_{i} = X_{i} + c \\left( U_{i} - \\frac{1}{2} \\right) \\hspace{0.3cm} , \\hspace{0.3cm} X_{i} = e^{U_{i}}\n",
    "$$\n",
    "\n",
    "We choose $c$ by\n",
    "\n",
    "$$\n",
    "c = -\\frac{ \\mathrm{Cov}(X,Y) }{ \\mathrm{Var}(Y) }\n",
    "$$\n"
   ]
  },
  {
   "cell_type": "code",
   "execution_count": 53,
   "id": "f413e6f1",
   "metadata": {},
   "outputs": [],
   "source": [
    "n = 1000\n",
    "U = np.random.uniform(0,1,n)\n",
    "X = np.exp(U)\n",
    "Y = X\n",
    "c = -np.cov(X,Y)[0,1] / np.var(Y)\n",
    "Z = X + c * ( U - 0.5 )\n",
    "Z_bar = np.mean(Z)\n"
   ]
  },
  {
   "cell_type": "code",
   "execution_count": 54,
   "id": "dbee354e",
   "metadata": {},
   "outputs": [
    {
     "name": "stdout",
     "output_type": "stream",
     "text": [
      "The estimate for the integral of exp(x) from 0 -> 1 is: 1.7225\n",
      "The variance of the estimate is: 0.0452\n",
      "The 95% CI for the crude Monte Carlo method is: [1.7093, 1.7357]\n"
     ]
    }
   ],
   "source": [
    "# Obtain the CI and variance from control variates\n",
    "mean, lower, upper, variance = CI(Z)\n",
    "\n",
    "print(f\"The estimate for the integral of exp(x) from 0 -> 1 is: {Z_bar:.4f}\")\n",
    "print(f\"The variance of the estimate is: {variance:.4f}\")\n",
    "print(f\"The 95% CI for the crude Monte Carlo method is: [{lower:.4f}, {upper:.4f}]\")"
   ]
  },
  {
   "cell_type": "markdown",
   "id": "731460f6",
   "metadata": {},
   "source": [
    "4. Estimate the integral $\\int_{0}^{1} e^x dx $ using stratified sampling, with\n",
    "comparable computer ressources."
   ]
  },
  {
   "cell_type": "markdown",
   "id": "fe58ec1d",
   "metadata": {},
   "source": [
    "In stratified sampling we sample in predetermined areas.\n",
    "\n",
    "$$\n",
    "W_{i} = \\frac{\\sum_{j=1}^{R} X_{i,j}}{k} = \\frac{X_{i,0} + X_{i,1} + \\ldots + X_{i,R}}{k}\n",
    "$$\n",
    "\n",
    "where $X_{i} = e^{U_{i}}$. So if $k=10$ we have\n",
    "\n",
    "$$\n",
    "W_{i} = \\frac{e^{\\frac{U_{i,1}}{10}} + e^{\\frac{1}{10} + \\frac{U_{i,2}}{10}} + \\ldots + e^{\\frac{9}{10} + \\frac{U_{i,10}}{10}} }{10}\n",
    "$$\n",
    "\n"
   ]
  },
  {
   "cell_type": "code",
   "execution_count": 61,
   "id": "19380ded",
   "metadata": {},
   "outputs": [],
   "source": [
    "# Define no. of samples\n",
    "n = 1000\n",
    "\n",
    "# Define no. of strata\n",
    "k = 10\n",
    "\n",
    "W = []\n",
    "U = np.random.sample(100)\n",
    "for i in range(k):\n",
    "    x_min = i/k\n",
    "    x_max = x_min + 1/k\n",
    "    U = np.random.uniform(x_min, x_max, 10)\n",
    "    e_U = np.exp(U)\n",
    "    W = np.hstack([W, e_U])\n",
    "\n",
    "# Take the mean\n",
    "W_bar = np.mean(W)\n"
   ]
  },
  {
   "cell_type": "code",
   "execution_count": 62,
   "id": "0affcb5c",
   "metadata": {},
   "outputs": [
    {
     "name": "stdout",
     "output_type": "stream",
     "text": [
      "The estimate for the integral of exp(x) from 0 -> 1 is: 1.7206\n",
      "The variance of the estimate is: 0.2457\n",
      "The 95% CI for the Monte Carlo method using stratified sampling is: \n",
      " [1.6233, 1.8178]\n"
     ]
    }
   ],
   "source": [
    "# Obtain the CI and variance from stratified sampling\n",
    "mean, lower, upper, variance = CI(W)\n",
    "\n",
    "print(f\"The estimate for the integral of exp(x) from 0 -> 1 is: {W_bar:.4f}\") \n",
    "print(f\"The variance of the estimate is: {variance:.4f}\")\n",
    "print(f\"The 95% CI for the Monte Carlo method using stratified sampling is: \\n [{lower:.4f}, {upper:.4f}]\")"
   ]
  },
  {
   "cell_type": "markdown",
   "id": "15b1a2d8",
   "metadata": {},
   "source": [
    "5. Use control variates to reduce the variance of the estimator in\n",
    "exercise 4 (Poisson arrivals)."
   ]
  },
  {
   "cell_type": "markdown",
   "id": "54986426",
   "metadata": {},
   "source": [
    "We now use control variates. We let $Y$ be the mean of the arrival rates thus $\\mu_{Y}$ is the mean of the mean arrival rates.\n",
    "\n",
    "$$\n",
    "Z_{i} = X_{i} + c ( Y_{i} - \\mu_{Y} )\n",
    "$$\n",
    "\n",
    "And choose $c$ by\n",
    "\n",
    "$$\n",
    "c = -\\frac{ \\mathrm{Cov}(X,Y) }{ \\mathrm{Var}(Y) }\n",
    "$$\n"
   ]
  },
  {
   "cell_type": "code",
   "execution_count": 118,
   "id": "8676c412",
   "metadata": {},
   "outputs": [],
   "source": [
    "# No. of customers\n",
    "n = 10000\n",
    "\n",
    "# Mean service time\n",
    "s = 8\n",
    "\n",
    "# Mean arrival rate\n",
    "l = 1\n",
    "\n",
    "# No. of service units\n",
    "m = 10\n",
    "\n",
    "# No. of runs\n",
    "r = 10\n"
   ]
  },
  {
   "cell_type": "code",
   "execution_count": 119,
   "id": "895bc4b1",
   "metadata": {},
   "outputs": [],
   "source": [
    "# Generate X arrival times from poisson distribution\n",
    "X = np.random.poisson(1/l, (n, r))\n",
    "# X = np.random.exponential(1/l, n)\n",
    "\n",
    "# Y is the mean of the arrival rates\n",
    "Y = np.mean(X, axis=1)\n",
    "mu_Y = np.mean(Y)\n",
    "\n",
    "# Obtain c\n",
    "c = np.zeros(r)\n",
    "for i in range(r):\n",
    "    c_i = -np.cov(X[:,i], Y)[0,1] / np.var(Y)\n",
    "    c[i] = c_i\n",
    "    \n",
    "# Generate Z arrival times from control variates\n",
    "Z = np.zeros(np.shape(X))\n",
    "for i in range(r):\n",
    "    Z_i = X[:,i] + c[i] * ( Y - np.mean(Y) )\n",
    "    Z[:,i] = Z_i"
   ]
  },
  {
   "cell_type": "code",
   "execution_count": 120,
   "id": "f5558214",
   "metadata": {},
   "outputs": [],
   "source": [
    "def simulate_blocking_system_cv(m, s, arrival_time, n, r, inter_arrival_times):\n",
    "    blocked_customers = []\n",
    "\n",
    "    for k in range(r): \n",
    "        num_blocked = 0\n",
    "        busy_servers = 0\n",
    "        current_time = 0\n",
    "        \n",
    "        # Take cumsum of inter arrival times\n",
    "        arrival_times = np.cumsum(inter_arrival_times[:,k])\n",
    "        \n",
    "        # General service times from exponential distribution\n",
    "        service_times = np.random.exponential(s, n)\n",
    "        departure_times = np.zeros(n)\n",
    "    \n",
    "        # Event queue\n",
    "        events = []\n",
    "        \n",
    "        for i in range(n):\n",
    "            events.append((arrival_times[i], 'arriving', i))\n",
    "        \n",
    "        # Sort events per time\n",
    "        events.sort() \n",
    "\n",
    "        for e in events:\n",
    "            event_time, event_type, customer_index = e\n",
    "            current_time = event_time\n",
    "\n",
    "            if event_type == 'arriving':\n",
    "                if busy_servers < m:\n",
    "                    \n",
    "                    busy_servers += 1\n",
    "                    departure_time = current_time + service_times[customer_index]\n",
    "                    departure_times[customer_index] = departure_time\n",
    "                    events.append((departure_time, 'departing', customer_index))\n",
    "                    \n",
    "                    # Re-sort events after adding a departure\n",
    "                    events.sort()\n",
    "                else:\n",
    "                    num_blocked += 1\n",
    "            elif event_type == 'departing':\n",
    "                busy_servers -= 1\n",
    "\n",
    "        blocked_customers.append(num_blocked)\n",
    "\n",
    "    return blocked_customers\n",
    "\n",
    "# Simulate to obtain no. of blocked customers\n",
    "blocked_customers_cv = simulate_blocking_system_cv(m, s, 1/l, n, r, Z)\n",
    "blocked_customers_cv = np.array(blocked_customers_cv)"
   ]
  },
  {
   "cell_type": "code",
   "execution_count": 122,
   "id": "85c14085",
   "metadata": {},
   "outputs": [
    {
     "name": "stdout",
     "output_type": "stream",
     "text": [
      "Fraction of blocked customers (simulation method with constant service times and poisson distributed arrival times): \n",
      " 0.1176\n",
      "The 95% CI for the fraction of blocked customers using control variates is: \n",
      " [0.1133, 0.1222]\n",
      "The variance of the fraction of block customers is (control variates): 0.3442\n"
     ]
    }
   ],
   "source": [
    "# Compute the fraction of blocked customers\n",
    "mean_blocking_percentage_cv = np.mean(blocked_customers_cv) / n\n",
    "print(f\"Fraction of blocked customers (simulation method with constant service times and poisson distributed arrival times): \\n {mean_blocking_percentage:.4f}\")\n",
    "\n",
    " \n",
    "# number of runs\n",
    "r = len(blocked_customers_cv)\n",
    "\n",
    "# convert counts to probabilities per run\n",
    "theta_hat_cv = blocked_customers_cv / n   # if 'n' is the total offered customers\n",
    "#print(f\"Theta hat     : {theta_hat}\")\n",
    "\n",
    "# sample mean\n",
    "theta_bar_cv = np.sum(theta_hat_cv) / r\n",
    "#theta_bar  = np.mean(theta_hat)\n",
    "\n",
    "# sample variance via the formula you gave\n",
    "S2_cv = (np.sum(theta_hat_cv**2) - r * theta_bar_cv**2) / (r - 1)\n",
    "#S2         = np.var(theta_hat, ddof=1)\n",
    "S_cv = np.sqrt(S2_cv)\n",
    "\n",
    "# Obtain alpha/2 and 1-alpha/2 quantile from t-distribution '\n",
    "\n",
    "# Obtain t\n",
    "alpha = 0.05 #significance level 5% , so we're constructing a 95% confidence interval (CI)\n",
    "df = r - 1 #degrees of freedom\n",
    "t_lower = t.ppf(alpha / 2, df) #  critical t-value = -2.26\n",
    "t_upper = t.ppf(1 - alpha / 2, df) #  critical t-value = 2.26\n",
    "\n",
    "lower = theta_bar_cv + ( S_cv / np.sqrt(r) ) * t_lower\n",
    "upper = theta_bar_cv + ( S_cv / np.sqrt(r) ) * t_upper\n",
    "\n",
    "print(f\"The 95% CI for the fraction of blocked customers using control variates is: \\n [{lower:.4f}, {upper:.4f}]\")\n",
    "\n",
    "# Compute variance of blocked customers using control variates\n",
    "variance_blocked_cv = np.var(blocked_customers_cv) / n\n",
    "print(f\"The variance of the fraction of block customers is (control variates): {variance_blocked_cv:.4f}\")"
   ]
  },
  {
   "cell_type": "markdown",
   "id": "bf5ff1da",
   "metadata": {},
   "source": [
    "Compare the variance and CI with the standard case (without using control variates) in the previous exercise."
   ]
  },
  {
   "cell_type": "code",
   "execution_count": 123,
   "id": "ce73318e",
   "metadata": {},
   "outputs": [],
   "source": [
    "def simulate_blocking_system(m, s, arrival_time, n, r):\n",
    "    blocked_customers = []\n",
    "\n",
    "    for _ in range(r):\n",
    "        \n",
    "        num_blocked = 0\n",
    "        busy_servers = 0\n",
    "        current_time = 0\n",
    "\n",
    "        # Generate arrival from poisson distribution\n",
    "        inter_arrival_times = np.random.exponential(arrival_time, n)\n",
    "        arrival_times = np.cumsum(inter_arrival_times)\n",
    "        \n",
    "        # General service times from exponential distribution\n",
    "        service_times = np.random.exponential(s, n)\n",
    "        departure_times = np.zeros(n)\n",
    "        \n",
    "        # Event queue\n",
    "        events = []\n",
    "        \n",
    "        for i in range(n):\n",
    "            events.append((arrival_times[i], 'arriving', i))\n",
    "        \n",
    "        # Sort events per time\n",
    "        events.sort() \n",
    "\n",
    "        for e in events:\n",
    "            event_time, event_type, customer_index = e\n",
    "            current_time = event_time\n",
    "\n",
    "            if event_type == 'arriving':\n",
    "                if busy_servers < m:\n",
    "                    \n",
    "                    busy_servers += 1\n",
    "                    departure_time = current_time + service_times[customer_index]\n",
    "                    departure_times[customer_index] = departure_time\n",
    "                    events.append((departure_time, 'departing', customer_index))\n",
    "                    \n",
    "                    # Re-sort events after adding a departure\n",
    "                    events.sort()\n",
    "                else:\n",
    "                    num_blocked += 1\n",
    "            elif event_type == 'departing':\n",
    "                busy_servers -= 1\n",
    "\n",
    "        blocked_customers.append(num_blocked)\n",
    "\n",
    "    return blocked_customers\n",
    "\n",
    "# No. of runs\n",
    "r = 10\n",
    "\n",
    "# Simulate to obtain no. of blocked customers\n",
    "blocked_customers = simulate_blocking_system(m, s, 1/l, n, r)"
   ]
  },
  {
   "cell_type": "code",
   "execution_count": 124,
   "id": "5fe5cc55",
   "metadata": {},
   "outputs": [
    {
     "name": "stdout",
     "output_type": "stream",
     "text": [
      "Fraction of blocked customers (simulation method): \n",
      " 0.1182\n",
      "The 95% CI for the fraction of blocked customers is: \n",
      " [0.1136, 0.1227]\n",
      "The variance of the fraction of block customers is: 0.3442\n"
     ]
    }
   ],
   "source": [
    "blocked_customers = np.array(blocked_customers)\n",
    "\n",
    "# Compute the fraction of blocked customers\n",
    "mean_blocking_percentage = np.mean(blocked_customers) / n\n",
    "print(f\"Fraction of blocked customers (simulation method): \\n {mean_blocking_percentage:.4f}\")\n",
    "\n",
    " \n",
    "# number of runs\n",
    "r = len(blocked_customers)\n",
    "\n",
    "# convert counts to probabilities per run\n",
    "theta_hat = blocked_customers / n   # if 'n' is the total offered customers\n",
    "#print(f\"Theta hat     : {theta_hat}\")\n",
    "\n",
    "# sample mean\n",
    "theta_bar = np.sum(theta_hat) / r\n",
    "#theta_bar  = np.mean(theta_hat)\n",
    "\n",
    "# sample variance via the formula you gave\n",
    "S2 = (np.sum(theta_hat**2) - r * theta_bar**2) / (r - 1)\n",
    "#S2         = np.var(theta_hat, ddof=1)\n",
    "S = np.sqrt(S2)\n",
    "\n",
    "# Obtain alpha/2 and 1-alpha/2 quantile from t-distribution '\n",
    "\n",
    "# Obtain t\n",
    "alpha = 0.05 #significance level 5% , so we're constructing a 95% confidence interval (CI)\n",
    "df = r - 1 #degrees of freedom\n",
    "t_lower = t.ppf(alpha / 2, df) #  critical t-value = -2.26\n",
    "t_upper = t.ppf(1 - alpha / 2, df) #  critical t-value = 2.26\n",
    "\n",
    "lower = theta_bar + ( S / np.sqrt(r) ) * t_lower\n",
    "upper = theta_bar + ( S / np.sqrt(r) ) * t_upper\n",
    "\n",
    "print(f\"The 95% CI for the fraction of blocked customers is: \\n [{lower:.4f}, {upper:.4f}]\")\n",
    "\n",
    "# Compute variance of blocked customers using control variates\n",
    "variance_blocked_cv = np.var(blocked_customers_cv) / n\n",
    "print(f\"The variance of the fraction of block customers is: {variance_blocked_cv:.4f}\")"
   ]
  },
  {
   "cell_type": "markdown",
   "id": "44faf67c",
   "metadata": {},
   "source": [
    "So without using control variates the variance of the fraction of blocked customers is $\\sim 0.47$ but when we use control variates we reduce the variance of this fraction to $\\sim 0.34$."
   ]
  },
  {
   "cell_type": "markdown",
   "id": "0667d91e",
   "metadata": {},
   "source": [
    "6. Demonstrate the effect of using common random numbers in\n",
    "exercise 4 for the difference between Poisson arrivals (Part 1) and a\n",
    "renewal process with hyperexponential interarrival times. Remark:\n",
    "You might need to do some thinking and some re-programmin"
   ]
  },
  {
   "cell_type": "code",
   "execution_count": null,
   "id": "08cbc5c1",
   "metadata": {},
   "outputs": [],
   "source": [
    "def sample_poisson(U, lam):\n",
    "    n = len(U)\n",
    "    samples = np.zeros(n, dtype=int)\n",
    "    \n",
    "    for i in range(n):\n",
    "        k = 0\n",
    "        cum_prob = np.exp(-lam)  # Initialize with P(X=0) = exp(-lam)\n",
    "        F_k = cum_prob\n",
    "        \n",
    "        while U[i] > cum_prob:\n",
    "            k += 1\n",
    "            F_k *= lam / k  # Update F(k)\n",
    "            cum_prob += F_k\n",
    "        \n",
    "        samples[i] = k\n",
    "    \n",
    "    return samples"
   ]
  },
  {
   "cell_type": "code",
   "execution_count": null,
   "id": "6bbd7210",
   "metadata": {},
   "outputs": [],
   "source": [
    "# Define no. of samples\n",
    "n = 1000\n",
    "\n",
    "# Arrival time\n",
    "a = 1\n",
    "\n",
    "# No. of runs\n",
    "r = 10\n",
    "\n",
    "# Generate uniform random numbers\n",
    "U = np.random.uniform(0, 1, (n,r))\n",
    "\n",
    "# Obtain samples for arrival time as Poisson process\n",
    "poisson_samples = np.zeros((n,r))\n",
    "for i in range(r):\n",
    "    poisson_samples_i = sample_poisson(U[:,i], 1/a)\n",
    "    poisson_samples[:,i] = poisson_samples_i\n",
    "    "
   ]
  },
  {
   "cell_type": "markdown",
   "id": "df12f9af",
   "metadata": {},
   "source": [
    "#### 6. Demonstrate the effect of using common random numbers in exercise 4 for the difference between Poisson arrivals (Part 1) and a renewal process with hyperexponential interarrival times. Remark: You might need to do some thinking and some re-programming.\n"
   ]
  },
  {
   "cell_type": "markdown",
   "id": "2b5641df",
   "metadata": {},
   "source": [
    " Use $U$ to generate the Poisson and hyperexponential arrivals. Used these arrivals to run the \"blocked customers\" simulation and computed the difference in the mean fraction of blocked customers.We first get the arrivals using the Poisson distribution."
   ]
  },
  {
   "cell_type": "code",
   "execution_count": 128,
   "id": "3c21d3c1",
   "metadata": {},
   "outputs": [],
   "source": [
    "def sample_poisson(U, lam):\n",
    "    n = len(U)\n",
    "    samples = np.zeros(n, dtype=int)\n",
    "    \n",
    "    for i in range(n):\n",
    "        k = 0\n",
    "        cum_prob = np.exp(-lam)  # Initialize with P(X=0) = exp(-lam)\n",
    "        F_k = cum_prob\n",
    "        \n",
    "        while U[i] > cum_prob:\n",
    "            k += 1\n",
    "            F_k *= lam / k  # Update F(k)\n",
    "            cum_prob += F_k\n",
    "        \n",
    "        samples[i] = k\n",
    "    \n",
    "    return samples"
   ]
  },
  {
   "cell_type": "code",
   "execution_count": 129,
   "id": "dfc19867",
   "metadata": {},
   "outputs": [],
   "source": [
    "# Define no. of samples\n",
    "n = 1000\n",
    "\n",
    "# Arrival time\n",
    "a = 1\n",
    "\n",
    "# No. of runs\n",
    "r = 10\n",
    "\n",
    "# Generate uniform random numbers\n",
    "U = np.random.uniform(0, 1, (n,r))\n",
    "\n",
    "# Obtain samples for arrival time as Poisson process\n",
    "poisson_samples = np.zeros((n,r))\n",
    "for i in range(r):\n",
    "    poisson_samples_i = sample_poisson(U[:,i], 1/a)\n",
    "    poisson_samples[:,i] = poisson_samples_i\n",
    "    "
   ]
  },
  {
   "cell_type": "markdown",
   "id": "0c918c16",
   "metadata": {},
   "source": [
    "The hyperexponential distribution has the probability density function given by\n",
    "\n",
    "$$\n",
    "f_{X}(x) = \\sum_{i=1}^{n} f_{Y_{i}}(x) p_{i}\n",
    "$$\n",
    "\n",
    "where $f_{Y_{i}}(x)$ is an exponential distributed random variable with the rate parameters as given. The parameters for the hyperexponential distribution are\n",
    "\n",
    "$$\n",
    "p_{1} = 0.8, \\lambda_{1} = 0.8333, p_{2} = 0.2, \\lambda_{2} = 5.0\n",
    "$$\n"
   ]
  },
  {
   "cell_type": "code",
   "execution_count": 130,
   "id": "ca388d96",
   "metadata": {},
   "outputs": [],
   "source": [
    "def sample_exponential(U, lam):\n",
    "    return -np.log(1 - U) / lam"
   ]
  },
  {
   "cell_type": "code",
   "execution_count": 131,
   "id": "107db361",
   "metadata": {},
   "outputs": [],
   "source": [
    "# Define lambda_i's and p_i's\n",
    "l1 = 0.8333\n",
    "l2 = 5\n",
    "p1 = 0.8\n",
    "p2 = 0.2\n",
    "\n",
    "# Obtain samples from exponential distribution\n",
    "f_Y1 = np.zeros((n,r))\n",
    "f_Y2 = np.zeros((n,r))\n",
    "for i in range(r):\n",
    "    f_Y1_i = sample_exponential(U[:,i], l1)\n",
    "    f_Y2_i = sample_exponential(U[:,i], l2)\n",
    "    f_Y1[:,i] = f_Y1_i\n",
    "    f_Y2[:,i] = f_Y2_i\n",
    "\n",
    "# Obtain f_X\n",
    "f_X = p1 * f_Y1 + p2 * f_Y2\n",
    "hyperexp_samples = f_X"
   ]
  },
  {
   "cell_type": "markdown",
   "id": "b4deb117",
   "metadata": {},
   "source": [
    "With the arrival times from both distributions found using the same random numbers $U$ we can run the simulation and see the difference in the mean fraction of blocked customers.\n",
    "\n",
    "$$\n",
    "\\theta_{Z} = \\theta_{1} - \\theta_{2}\n",
    "$$\n",
    "\n",
    "Where $\\theta_{1}$ is the mean blocking fraction from the Poisson arrivals and $\\theta_{2}$ is the mean blocking fraction from the hyperexponential arrivals.\n"
   ]
  },
  {
   "cell_type": "code",
   "execution_count": 132,
   "id": "797c104c",
   "metadata": {},
   "outputs": [],
   "source": [
    "# Simulate to obtain no. of blocked customers (Poisson)\n",
    "blocked_customers_poisson = simulate_blocking_system_cv(m, s, 1/l, n, r, poisson_samples)\n",
    "\n",
    "# Simulate to obtain no. of blocked customers (hyperexponential)\n",
    "blocked_customers_hyperexp = simulate_blocking_system_cv(m, s, 1/l, n, r, hyperexp_samples)"
   ]
  },
  {
   "cell_type": "code",
   "execution_count": 133,
   "id": "ee5f15fb",
   "metadata": {},
   "outputs": [
    {
     "name": "stdout",
     "output_type": "stream",
     "text": [
      "System 1: Poisson arrivals and exponential services:\n",
      "Fraction of blocked customers: 0.1343\n",
      "The variance of the fraction of block customers is: 0.4066\n",
      "----------------------------------------------------------\n",
      "System 2: Hyperexponential arrivals and exponential services:\n",
      "Fraction of blocked customers: 0.1201\n",
      "The variance of the fraction of block customers is: 0.2517\n",
      "----------------------------------------------------------\n"
     ]
    }
   ],
   "source": [
    "# Compute the fraction of blocked customers (Poisson)\n",
    "mean_blocking_percentage_poisson = np.mean(blocked_customers_poisson) / n\n",
    "\n",
    "# Compute the fraction of blocked customers (hyperexponential)\n",
    "mean_blocking_percentage_hyperexp = np.mean(blocked_customers_hyperexp) / n\n",
    "\n",
    "# Compute variance of blocked customers (Poisson)\n",
    "variance_blocked_poisson = np.var(blocked_customers_poisson) / n\n",
    "\n",
    "# Compute variance of blocked customers (hyperexponential)\n",
    "variance_blocked_hyperexp = np.var(blocked_customers_hyperexp) / n\n",
    "\n",
    "print(\"System 1: Poisson arrivals and exponential services:\")\n",
    "print(f\"Fraction of blocked customers: {mean_blocking_percentage_poisson:.4f}\")\n",
    "print(f\"The variance of the fraction of block customers is: {variance_blocked_poisson:.4f}\")\n",
    "print(\"----------------------------------------------------------\")\n",
    "\n",
    "print(\"System 2: Hyperexponential arrivals and exponential services:\")\n",
    "print(f\"Fraction of blocked customers: {mean_blocking_percentage_hyperexp:.4f}\")\n",
    "print(f\"The variance of the fraction of block customers is: {variance_blocked_hyperexp:.4f}\")\n",
    "print(\"----------------------------------------------------------\")\n"
   ]
  },
  {
   "cell_type": "code",
   "execution_count": 134,
   "id": "e31a7b15",
   "metadata": {},
   "outputs": [
    {
     "name": "stdout",
     "output_type": "stream",
     "text": [
      "On average, the difference between the two systems is: 0.0142\n"
     ]
    }
   ],
   "source": [
    "# Compute delta\n",
    "delta = np.mean(mean_blocking_percentage_poisson - mean_blocking_percentage_hyperexp)\n",
    "\n",
    "#delta = np.mean(blocked_customers_poisson - blocked_customers_hyperexp)\n",
    "print(f\"On average, the difference between the two systems is: {delta:.4f}\")"
   ]
  },
  {
   "cell_type": "markdown",
   "id": "0f7602a5",
   "metadata": {},
   "source": [
    "Since $\\theta_{Z}$ is positive, this means that $\\theta_{1}$ (Poisson arrivals) is greater than $\\theta_{2}$ (hyperexponential arrivals) thus we see that the mean blocking fraction for hyperexponential arrivals is smaller."
   ]
  },
  {
   "cell_type": "markdown",
   "id": "01bec09e",
   "metadata": {},
   "source": [
    "7. For a standard normal random variable Z ∼ N(0, 1) using the crude\n",
    "Monte Carlo estimator estimate the probability Z > a. Then try\n",
    "importance sampling with a normal density with mean a and\n",
    "variance $σ^2$. For the expirements start using $σ^2$ = 1, use different\n",
    "values of a (e.g. 2 and 4), and different sample sizes. If time\n",
    "permits experiment with other values for $σ^2$. Finally discuss the\n",
    "efficiency of the methods."
   ]
  },
  {
   "cell_type": "code",
   "execution_count": 135,
   "id": "f9138150",
   "metadata": {},
   "outputs": [
    {
     "name": "stdout",
     "output_type": "stream",
     "text": [
      "The probability that Z>2 is: 0.0239\n",
      "The true probability that Z>2 is 0.0227501325.\n"
     ]
    }
   ],
   "source": [
    "# Define no. of samples \n",
    "n = 10000\n",
    "\n",
    "# Obtain Z samples\n",
    "mu = 0\n",
    "sigma = 1\n",
    "Z = np.random.normal(mu, sigma, n)\n",
    "\n",
    "# Compute frequency where Z>a\n",
    "a = 2\n",
    "p_crude = np.sum(Z > a) / len(Z)\n",
    "\n",
    "print(f\"The probability that Z>{a} is: {p_crude:.4f}\")\n",
    "print(\"The true probability that Z>2 is 0.0227501325.\")\n"
   ]
  },
  {
   "cell_type": "markdown",
   "id": "94114e26",
   "metadata": {},
   "source": [
    "We now estimate the probability that $Z>a$ using importance sampling method where we define the target distribution as $f(x)$. In importance sampling we choose the proposal distribution $g(x)$ which has mean $a$ and $\\sigma^2=1$ which has a significant overlap with $f(x)$ where $f(x)$ is small.\n",
    "\n",
    "We obtain weights by computing\n",
    "\n",
    "$$\n",
    "w_{i} = \\frac{f(z_{i})}{g(z_{i})}\n",
    "$$\n",
    "\n",
    "where $f(z_{i})$ and $g(z_{i})$ are the PDF values from the target and proposal distributions at $z_{i}$. To get $P(Z>a)$ we compute\n",
    "\n",
    "$$\n",
    "P(Z>a) = \\sum_{i=1}^{n} \\frac{ h(z_{i}>2) w_{i} }{ w_{i} }\n",
    "$$\n",
    "\n",
    "where $h(z_{i}>2)$ is simply an indicator function that is 1 when $z_{i}>2$ and 0 otherwise where $z_{i} \\sim g(z_{i})$ ($z_{i}$ is sampled from our proposal distribution).\n"
   ]
  },
  {
   "cell_type": "code",
   "execution_count": 136,
   "id": "51664cf5",
   "metadata": {},
   "outputs": [],
   "source": [
    "import scipy.stats as stats"
   ]
  },
  {
   "cell_type": "code",
   "execution_count": null,
   "id": "3e2373f9",
   "metadata": {},
   "outputs": [
    {
     "name": "stdout",
     "output_type": "stream",
     "text": [
      "The probability that Z>2 using crude method is: 0.0239\n",
      "The probability that Z>2 using importance sampling is: 0.018628435751814956\n",
      "The true probability that Z>2 is 0.0227501325.\n"
     ]
    }
   ],
   "source": [
    "# Generate samples from proposal distribution\n",
    "n = 1000\n",
    "mu = 0\n",
    "a = 2\n",
    "sigma = 1\n",
    "Z = np.random.normal(a, sigma, n)\n",
    "\n",
    "# Obtain pdf-values from target and proposed distribution\n",
    "target_pdf = stats.norm.pdf(Z, mu, sigma)\n",
    "proposal_pdf = stats.norm.pdf(Z, a, sigma)\n",
    "weights = target_pdf / proposal_pdf\n",
    "\n",
    "# Estimate probability from importance sampling\n",
    "indicator = np.where(Z < a, 0, 1)\n",
    "p_IS = np.sum( indicator * weights ) / np.sum( weights )\n",
    "\n",
    "# OR Importance sampling estimator of P(Z > 2)\n",
    "# p_IS = np.sum((Z > 2) * weights) / np.sum(weights)\n",
    "\n",
    "print(f\"The probability that Z>{a} using crude method is:\", p_crude)\n",
    "print(f\"The probability that Z>{a} using importance sampling is:\", p_IS)\n",
    "print(\"The true probability that Z>2 is 0.0227501325.\")\n"
   ]
  },
  {
   "cell_type": "markdown",
   "id": "3d612efa",
   "metadata": {},
   "source": [
    "8. Use importance sampling with g(x) = λ exp (−λ ∗ x) to calculate\n",
    "the integral $\\int_{0}^{1} e^x dx $ of Question 1. Try to find the optimal value of\n",
    "λ by calculating the variance of $ h(X)f(X)/g(X) $ and verify by\n",
    "simulation. Note that importance sampling with the exponential\n",
    "distribution will not reduce the variance."
   ]
  },
  {
   "cell_type": "markdown",
   "id": "806e5234",
   "metadata": {},
   "source": [
    "We run a new simulation for the optimal $\\lambda$-value using Importance Sampling.\n",
    "\n",
    "We have that the analytic formula for the variance is\n",
    "\n",
    "$$\n",
    "\\frac{e^{2+\\lambda} - 1}{\\lambda ( 2 + \\lambda )} - (e - 1)^2\n",
    "$$\n"
   ]
  },
  {
   "cell_type": "code",
   "execution_count": 138,
   "id": "b83d6122",
   "metadata": {},
   "outputs": [],
   "source": [
    "# Define analytic variance function\n",
    "def analytic(l):\n",
    "    f = ( np.exp( 2 + l ) - 1 ) / ( l * ( 2 + l ) ) - ( np.exp(1) - 1 )**2\n",
    "    return f\n"
   ]
  },
  {
   "cell_type": "code",
   "execution_count": 140,
   "id": "49b2f6f8",
   "metadata": {},
   "outputs": [
    {
     "name": "stdout",
     "output_type": "stream",
     "text": [
      "Optimal lambda from simulation = 0.9798, result = 2.7368, variance = 2.5656\n"
     ]
    }
   ],
   "source": [
    "n = 10000\n",
    "\n",
    "def IS(n, l):\n",
    "    def g(x, l):\n",
    "        return l * np.exp(-l * x)\n",
    "    Z = np.random.exponential(1/l, n)\n",
    "    \n",
    "    # Indicator function\n",
    "    Z = Z[(Z>=0) & (Z<=1)]\n",
    "    \n",
    "    W = np.exp(Z) / g(Z, l)\n",
    "    return np.mean(W), np.var(W)\n",
    "\n",
    "# Initialize optimal values\n",
    "mean_opt = None\n",
    "var_opt = None\n",
    "l_opt = None\n",
    "\n",
    "# lambda values\n",
    "var_list = []\n",
    "l_list = np.linspace(0.5, 3, 100)\n",
    "\n",
    "for l in l_list:\n",
    "    mean, variance = IS(n, l)\n",
    "    var_list.append(variance)\n",
    "    if var_opt is None or variance < var_opt:\n",
    "        mean_opt = mean\n",
    "        var_opt = variance\n",
    "        l_opt = l\n",
    "    \n",
    "print(f'Optimal lambda from simulation = {l_opt:.4f}, result = {mean_opt:.4f}, variance = {var_opt:.4f}')\n"
   ]
  },
  {
   "cell_type": "code",
   "execution_count": 142,
   "id": "12a2ba01",
   "metadata": {},
   "outputs": [
    {
     "data": {
      "image/png": "[encoded data removed]",
      "text/plain": [
       "<Figure size 640x480 with 1 Axes>"
      ]
     },
     "metadata": {},
     "output_type": "display_data"
    }
   ],
   "source": [
    "# Plotting\n",
    "plt.plot(l_list, var_list)\n",
    "plt.plot(l_list, analytic(l_list))\n",
    "plt.scatter(l_opt, var_opt, color='red')\n",
    "plt.legend(['Analytical variance formula','Simulation',r'Optimal $\\lambda$'])\n",
    "plt.xlabel(r'$\\lambda$')\n",
    "plt.ylabel('Variance')\n",
    "plt.grid()\n",
    "plt.show()\n"
   ]
  },
  {
   "cell_type": "markdown",
   "id": "afbc5687",
   "metadata": {},
   "source": [
    "9. For the Pareto case derive the IS estimator for the mean using the\n",
    "first moment distribution as sampling distribution. Is the approach\n",
    "meaningful? and could this be done in general? With this insight\n",
    "could you change the choice of $ g(x) $ in the previous question\n",
    "(Question 8) such that importance sampling would reduce the\n",
    "variance? You do not need to implement this, as long as you can\n",
    "argue, what should happen"
   ]
  },
  {
   "cell_type": "markdown",
   "id": "417cd0a0",
   "metadata": {},
   "source": [
    "We have that the Pareto distribution is given by\n",
    "\n",
    "$$\n",
    "f(x) = \\frac{\\alpha x_{\\alpha}^{m}}{x^{\\alpha + 1}} \\hspace{0.3cm} , \\hspace{0.3cm} x \\geq x_{m}\n",
    "$$\n",
    "\n",
    "Using the first moment distribution as our sampling distribution we have that the IS estimator for the mean is\n",
    "\n",
    "$$\n",
    "\\mathrm{E}(X) = \\frac{\\alpha  x_{m}}{\\alpha - 1}  \\hspace{0.3cm} , \\hspace{0.3cm} \\alpha > 1\n",
    "$$\n",
    "\n",
    "Thus the first moment distribution for sampling may not be meaningful to implement as this function does not correspond to a known distribution. Given the shape of the Pareto distribution perhaps the Beta distribution would be more suitable and can better shape to fit the integration region.\n"
   ]
  }
 ],
 "metadata": {
  "kernelspec": {
   "display_name": "timesfm-env",
   "language": "python",
   "name": "python3"
  },
  "language_info": {
   "codemirror_mode": {
    "name": "ipython",
    "version": 3
   },
   "file_extension": ".py",
   "mimetype": "text/x-python",
   "name": "python",
   "nbconvert_exporter": "python",
   "pygments_lexer": "ipython3",
   "version": "3.10.16"
  }
 },
 "nbformat": 4,
 "nbformat_minor": 5
}
