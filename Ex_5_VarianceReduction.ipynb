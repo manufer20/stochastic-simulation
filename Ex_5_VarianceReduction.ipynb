{
 "cells": [
  {
   "cell_type": "markdown",
   "id": "f1a1996c",
   "metadata": {},
   "source": [
    "#### Exercise 5: Variance reduction methods\n"
   ]
  },
  {
   "cell_type": "markdown",
   "id": "12097d68",
   "metadata": {},
   "source": [
    "1. Estimate the integral $\\int_{0}^{1} e^x dx $ by simulation (the _crude_ Monte Carlo estimator). Use, for example, an estimator based on 100 samples and present your result as the point estimator and confidence interval  \n"
   ]
  },
  {
   "cell_type": "code",
   "execution_count": 51,
   "id": "3442d1c5",
   "metadata": {},
   "outputs": [],
   "source": [
    "import numpy as np\n",
    "from scipy import stats\n",
    "from matplotlib import pyplot as plt"
   ]
  },
  {
   "cell_type": "markdown",
   "id": "c50221e5",
   "metadata": {},
   "source": [
    "#### Crude Monte Carlo estimator\n",
    "\n",
    "We can interpret this interval as\n",
    "\n",
    "$$\n",
    "\\theta = \\int_{0}^{1} e^{x} \\: dx = \\mathrm{E}(e^{u}) \\hspace{0.3cm} , \\hspace{0.3cm} U \\in \\mathrm{U}(0,1)\n",
    "$$\n",
    "\n",
    "To estimate the integral obtain the sample of the random variable $e^{U}$ and take the average.\n",
    "\n",
    "$$\n",
    "X_{i} = e^{U_{i}} \\hspace{0.3cm} , \\hspace{0.3cm} \\bar{X} = \\frac{\\sum_{i=1}^{n} X_{i}}{n}\n",
    "$$"
   ]
  },
  {
   "cell_type": "code",
   "execution_count": null,
   "id": "83f4bfc7",
   "metadata": {},
   "outputs": [],
   "source": [
    "# the integral\n",
    "\n",
    "# no. of samples\n",
    "n = 100\n",
    "\n",
    "# no. of samples obtained from uniform distribution\n",
    "U = np.random.uniform(0, 1, n)\n",
    "\n",
    "#  sample of the random variable e^U\n",
    "eU = np.exp(U)\n",
    "\n",
    "# Point estimate 𝜃_hat\n",
    "X_bar = sum(eU) / n\n",
    "\n",
    "# analytic solution\n",
    "analytic_sol = np.exp(1) - 1\n"
   ]
  },
  {
   "cell_type": "code",
   "execution_count": null,
   "id": "b8d5ea3e",
   "metadata": {},
   "outputs": [],
   "source": [
    "# CI for 95%\n",
    "def CI(data, alpha = 0.05):\n",
    "    mean = np.mean(data)                                          # mean\n",
    "    std = np.std(data)                                            # standard deviation\n",
    "    variance = np.var(data)                                       # variance\n",
    "    chi_squared = stats.t.ppf(1 - alpha/2, n -1)                  # variance\n",
    "    lower = mean - chi_squared * (std / np.sqrt(len(data)))       # lower\n",
    "    upper = mean + chi_squared * (std / np.sqrt(len(data)))       # upper    \n",
    "    return mean, lower, upper, variance\n",
    "\n",
    "# Obtain the CI and variance from crude method\n",
    "mean, lower, upper, variance = CI(np.exp(U))"
   ]
  },
  {
   "cell_type": "code",
   "execution_count": 70,
   "id": "774e1f0b",
   "metadata": {},
   "outputs": [
    {
     "name": "stdout",
     "output_type": "stream",
     "text": [
      "The estimate for the integral of exp(x) from 0 -> 1 is: 1.7142\n",
      "The variance of the estimate is: 0.2488\n",
      "The 95% CI for the crude Monte Carlo method is: [1.6152, 1.8131]\n",
      "The analytical solution for the integral: 1.7183\n"
     ]
    }
   ],
   "source": [
    "print(f\"The estimate for the integral of exp(x) from 0 -> 1 is: {X_bar:.4f}\")\n",
    "print(f\"The variance of the estimate is: {variance:.4f}\")\n",
    "print(f\"The 95% CI for the crude Monte Carlo method is: [{lower:.4f}, {upper:.4f}]\")\n",
    "print(f\"The analytical solution for the integral: {analytic_sol:.4f}\")"
   ]
  },
  {
   "cell_type": "markdown",
   "id": "f851f990",
   "metadata": {},
   "source": [
    "Confident Interval"
   ]
  },
  {
   "cell_type": "code",
   "execution_count": 21,
   "id": "317c797e",
   "metadata": {},
   "outputs": [
    {
     "ename": "NameError",
     "evalue": "name 'chi2' is not defined",
     "output_type": "error",
     "traceback": [
      "\u001b[1;31m---------------------------------------------------------------------------\u001b[0m",
      "\u001b[1;31mNameError\u001b[0m                                 Traceback (most recent call last)",
      "Cell \u001b[1;32mIn[21], line 8\u001b[0m\n\u001b[0;32m      5\u001b[0m alpha \u001b[38;5;241m=\u001b[39m \u001b[38;5;241m0.05\u001b[39m\n\u001b[0;32m      7\u001b[0m \u001b[38;5;66;03m# Calculate critical value\u001b[39;00m\n\u001b[1;32m----> 8\u001b[0m chi_squared \u001b[38;5;241m=\u001b[39m \u001b[43mchi2\u001b[49m\u001b[38;5;241m.\u001b[39mppf(\u001b[38;5;241m1\u001b[39m \u001b[38;5;241m-\u001b[39m alpha, df)\n\u001b[0;32m      9\u001b[0m \u001b[38;5;28mprint\u001b[39m(\u001b[38;5;124m\"\u001b[39m\u001b[38;5;124mThe critical value is:\u001b[39m\u001b[38;5;124m\"\u001b[39m, chi_squared)\n\u001b[0;32m     11\u001b[0m \u001b[38;5;66;03m# Calculate the p-value under the observed test statistic\u001b[39;00m\n",
      "\u001b[1;31mNameError\u001b[0m: name 'chi2' is not defined"
     ]
    }
   ],
   "source": [
    "# Degrees of freedom\n",
    "df = 100 - 1\n",
    "\n",
    "# Significance level\n",
    "alpha = 0.05\n",
    "\n",
    "# Calculate critical value\n",
    "chi_squared = chi2.ppf(1 - alpha, df)\n",
    "print(\"The critical value is:\", chi_squared)\n",
    "\n",
    "# Calculate the p-value under the observed test statistic\n",
    "p_value = chi2.sf(T, df)\n",
    "print(\"The p-value is:\", p_value)"
   ]
  },
  {
   "cell_type": "markdown",
   "id": "c3136aec",
   "metadata": {},
   "source": [
    "2. Estimate the integral $\\int_{0}^{1} e^x dx $  using antithetic variables, with comparable computer ressources."
   ]
  },
  {
   "cell_type": "markdown",
   "id": "4bece172",
   "metadata": {},
   "source": [
    "3. Estimate the integral $\\int_{0}^{1} e^x dx $ using a control variable, with comparable computer ressources."
   ]
  },
  {
   "cell_type": "markdown",
   "id": "731460f6",
   "metadata": {},
   "source": [
    "4. Estimate the integral $\\int_{0}^{1} e^x dx $ using stratified sampling, with\n",
    "comparable computer ressources."
   ]
  },
  {
   "cell_type": "markdown",
   "id": "15b1a2d8",
   "metadata": {},
   "source": [
    "5. Use control variates to reduce the variance of the estimator in\n",
    "exercise 4 (Poisson arrivals)."
   ]
  },
  {
   "cell_type": "markdown",
   "id": "0667d91e",
   "metadata": {},
   "source": [
    "6. Demonstrate the effect of using common random numbers in\n",
    "exercise 4 for the difference between Poisson arrivals (Part 1) and a\n",
    "renewal process with hyperexponential interarrival times. Remark:\n",
    "You might need to do some thinking and some re-programmin"
   ]
  },
  {
   "cell_type": "markdown",
   "id": "01bec09e",
   "metadata": {},
   "source": [
    "7. For a standard normal random variable Z ∼ N(0, 1) using the crude\n",
    "Monte Carlo estimator estimate the probability Z > a. Then try\n",
    "importance sampling with a normal density with mean a and\n",
    "variance σ\n",
    "2\n",
    ". For the expirements start using σ\n",
    "2 = 1, use different\n",
    "values of a (e.g. 2 and 4), and different sample sizes. If time\n",
    "permits experiment with other values for σ\n",
    "2\n",
    ". Finally discuss the\n",
    "efficiency of the methods."
   ]
  },
  {
   "cell_type": "markdown",
   "id": "3d612efa",
   "metadata": {},
   "source": [
    "8. Use importance sampling with g(x) = λ exp (−λ ∗ x) to calculate\n",
    "the integral $\\int_{0}^{1} e^x dx $ of Question 1. Try to find the optimal value of\n",
    "λ by calculating the variance of $ h(X)f(X)/g(X) $ and verify by\n",
    "simulation. Note that importance sampling with the exponential\n",
    "distribution will not reduce the variance."
   ]
  },
  {
   "cell_type": "markdown",
   "id": "afbc5687",
   "metadata": {},
   "source": [
    "9. For the Pareto case derive the IS estimator for the mean using the\n",
    "first moment distribution as sampling distribution. Is the approach\n",
    "meaningful? and could this be done in general? With this insight\n",
    "could you change the choice of $ g(x) $ in the previous question\n",
    "(Question 8) such that importance sampling would reduce the\n",
    "variance? You do not need to implement this, as long as you can\n",
    "argue, what should happe"
   ]
  }
 ],
 "metadata": {
  "kernelspec": {
   "display_name": "timesfm-env",
   "language": "python",
   "name": "python3"
  },
  "language_info": {
   "codemirror_mode": {
    "name": "ipython",
    "version": 3
   },
   "file_extension": ".py",
   "mimetype": "text/x-python",
   "name": "python",
   "nbconvert_exporter": "python",
   "pygments_lexer": "ipython3",
   "version": "3.10.16"
  }
 },
 "nbformat": 4,
 "nbformat_minor": 5
}
