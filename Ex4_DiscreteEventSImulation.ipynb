{
 "cells": [
  {
   "cell_type": "markdown",
   "id": "d3ac03b8",
   "metadata": {},
   "source": [
    "#### Exercise 4: Discrete Event Simulation"
   ]
  },
  {
   "cell_type": "markdown",
   "id": "b161a666",
   "metadata": {},
   "source": [
    "####  Discrete Event Simulation of a Blocking System"
   ]
  },
  {
   "cell_type": "code",
   "execution_count": 26,
   "id": "7ffa335a",
   "metadata": {},
   "outputs": [],
   "source": [
    "import numpy as np\n",
    "import matplotlib.pyplot as plt\n",
    "import math\n",
    "\n",
    "from scipy.stats import t\n",
    "from scipy import stats\n",
    "np.random.seed(42)\n"
   ]
  },
  {
   "cell_type": "markdown",
   "id": "41c7716b",
   "metadata": {},
   "source": [
    "#### Write a discrete event simulation program for a blocking system, i.e. a system with m service units and no waiting room. The offered traffic A is the product of the mean arrival rate and the mean service time.\n",
    "\n",
    "#### 1. The arrival process is modelled as a Poisson process. Report the fraction of blocked customers, and a confidence interval for this fraction. Choose the service time distribution as exponential. Parameters: m = 10, mean service time = 8 time units, mean time between customers = 1 time unit (corresponding to an offered traffic of 8 Erlang), 10 x 10.000 customers. This system is sufficiently simple such that the analytical solution is known. See the last slide for the solution. Verify your simulation program using this knowledge."
   ]
  },
  {
   "cell_type": "markdown",
   "id": "78b9e923",
   "metadata": {},
   "source": [
    "The blocking probability is given by \n",
    "\n",
    "$$\n",
    "B = \\frac{ A^{m} / m ! }{ \\sum_{i=0}^{m} \\frac{A^{i}}{i!} }\n",
    "$$\n",
    "\n",
    "where $A$ is the product of the mean arrival rate $\\lambda$ and the mean service time $s$, i.e. $A = \\lambda s$. It can be thought of as probability of lost sales, etc."
   ]
  },
  {
   "cell_type": "markdown",
   "id": "286e0ab8",
   "metadata": {},
   "source": [
    "#### Fraction of blocked customers - Analytic solution"
   ]
  },
  {
   "cell_type": "code",
   "execution_count": 27,
   "id": "07e55d1e",
   "metadata": {},
   "outputs": [
    {
     "name": "stdout",
     "output_type": "stream",
     "text": [
      "The analytical solution for a blocking system (Erlang B): 0.12166\n"
     ]
    }
   ],
   "source": [
    "# --- Parameters ---\n",
    "m = 10              # No. of service units / number of sub-samples\n",
    "s = 8               # mean service time \n",
    "l = 1               # mean arrival rate  λ (1 customer per unit time)\n",
    "arrival_time = 1 / l\n",
    "n = 10000           # number of customers per run \n",
    "r = 10              # number of simulation runs\n",
    "np.random.seed(42)\n",
    "A = l * s \n",
    "\n",
    "# Erlang’s B-formula\n",
    "B = (A**m / math.factorial(m)) / sum((A**i)/math.factorial(i) for i in range (m+1))\n",
    "\n",
    "# Compute blocking probability\n",
    "print(f\"The analytical solution for a blocking system (Erlang B): {B:.5f}\") #0.12166"
   ]
  },
  {
   "cell_type": "markdown",
   "id": "34e96b76",
   "metadata": {},
   "source": [
    "#### Fraction of blocked customers - Simulation method"
   ]
  },
  {
   "cell_type": "code",
   "execution_count": null,
   "id": "262d27ae",
   "metadata": {},
   "outputs": [],
   "source": [
    "def simulate_blocking_system(m, s, arrival_time, n, r):\n",
    "    blocked_customers = []\n",
    "\n",
    "    for _ in range(r):\n",
    "        num_blocked = 0\n",
    "        busy_servers = 0\n",
    "        current_time = 0\n",
    "\n",
    "        # The arrival process interarrival times (Poisson process)\n",
    "        inter_arrival_times = np.random.exponential(arrival_time, n)\n",
    "        arrival_times = np.cumsum(inter_arrival_times)\n",
    "\n",
    "        # Service time distribution as exponential\n",
    "        service_times = np.random.exponential(s, n)\n",
    "        departure_times = np.zeros(n)\n",
    "\n",
    "        # Event queue\n",
    "        events = [(arrival_times[i], 'arriving', i) for i in range(n)]\n",
    "        events.sort() # chronological sorting\n",
    "\n",
    "        for e in events:\n",
    "            event_time, event_type, customer_index = e\n",
    "            current_time = event_time\n",
    "\n",
    "            if event_type == 'arriving':\n",
    "                if busy_servers < m:\n",
    "                    busy_servers += 1\n",
    "                    departure_time = current_time + service_times[customer_index]\n",
    "                    departure_times[customer_index] = departure_time\n",
    "                    events.append((departure_time, 'departing', customer_index))\n",
    "                    events.sort() # Re-sort events after adding a departure\n",
    "                    #print(events)\n",
    "                else:\n",
    "                    num_blocked += 1\n",
    "            elif event_type == 'departing':\n",
    "                busy_servers -= 1\n",
    "\n",
    "        blocked_customers.append(num_blocked)\n",
    "\n",
    "    return np.array(blocked_customers)\n",
    "\n",
    "# --- Run Simulation ---\n",
    "blocked_customers = simulate_blocking_system(m, s, 1/l, n, r)\n"
   ]
  },
  {
   "cell_type": "code",
   "execution_count": 6,
   "id": "701673c8",
   "metadata": {},
   "outputs": [
    {
     "name": "stdout",
     "output_type": "stream",
     "text": [
      "Fraction of blocked customers (simulation method): 0.1233\n"
     ]
    }
   ],
   "source": [
    "# Calculate the fraction of blocked customers\n",
    "mean_blocking_percentage = np.mean(blocked_customers) / n\n",
    "\n",
    "print(f\"Fraction of blocked customers (simulation method): {mean_blocking_percentage:.4f}\") # 0.1233"
   ]
  },
  {
   "cell_type": "markdown",
   "id": "c5e6f81a",
   "metadata": {},
   "source": [
    "#### Confidence interval of the blocking probability"
   ]
  },
  {
   "cell_type": "markdown",
   "id": "cd87efd2",
   "metadata": {},
   "source": [
    "The confidence interval for the blocking probability can be given by first obtaining $n$ different (independent) estimates of the blocking probabilities and then calculating their mean and variance.\n",
    "\n",
    "$$\n",
    "\\bar{\\theta} = \\frac{ \\sum_{i=1}^{n} \\hat{\\theta}_{i} }{ n } \\hspace{0.3cm} , \\hspace{0.3cm} S_{\\theta}^{2} = \\frac{1}{n-1} \\left(  \\sum_{i=1}^{n} \\hat{\\theta}_{i}^{2} - n \\bar{\\theta}^2 \\right)\n",
    "$$\n",
    "\n",
    "The $(1 - \\alpha)$% CI is then\n",
    "\n",
    "$$\n",
    "\\left[ \\bar{\\theta} - \\frac{ S_{\\theta} }{ \\sqrt{n} } t_{\\alpha/2} (n - 1) ; \\bar{\\theta} + \\frac{ S_{\\theta} }{ \\sqrt{n} } t_{1 - \\alpha/2} (n - 1) \\right]\n",
    "$$\n",
    "\n",
    "Note that the service time and arrival rate are sampled from the exponential distribution.\n",
    "\n",
    "Note that the mean service time $s$ means that the rate would be $\\lambda_{s} = \\frac{1}{s}$ and the mean arrival rate is as given, $\\lambda$. When sampling from the exponential distribution the argument requires that we input the inverse of the rate parameter but when sampling from the Poisson distribution the argument requires that we input the rate parameter.\n"
   ]
  },
  {
   "cell_type": "code",
   "execution_count": 7,
   "id": "1dc07481",
   "metadata": {},
   "outputs": [],
   "source": [
    "from scipy import stats"
   ]
  },
  {
   "cell_type": "code",
   "execution_count": 8,
   "id": "288b79f6",
   "metadata": {},
   "outputs": [
    {
     "name": "stdout",
     "output_type": "stream",
     "text": [
      "Mean blocking probability     : 0.123300\n",
      "Sample variance (of estimates): 6.273111e-05\n",
      "The 95% CI for the fraction of blocked customers per the simulation is: \n",
      " [0.1176, 0.1290]\n"
     ]
    }
   ],
   "source": [
    "# number of runs\n",
    "r = len(blocked_customers)\n",
    "\n",
    "# convert counts to probabilities per run\n",
    "theta_hat = blocked_customers / n   # if 'n' is the total offered customers\n",
    "#print(f\"Theta hat     : {theta_hat}\")\n",
    "\n",
    "# sample mean\n",
    "theta_bar = np.sum(theta_hat) / r\n",
    "#theta_bar  = np.mean(theta_hat)\n",
    "\n",
    "# sample variance via the formula you gave\n",
    "S2 = (np.sum(theta_hat**2) - r * theta_bar**2) / (r - 1)\n",
    "#S2         = np.var(theta_hat, ddof=1)\n",
    "S = np.sqrt(S2)\n",
    "\n",
    "print(f\"Mean blocking probability     : {theta_bar:.6f}\") # Mean blocking probability: 0.123300\n",
    "print(f\"Sample variance (of estimates): {S2:.6e}\") # Sample variance (of estimates): 6.273111e-05\n",
    "\n",
    "# Obtain alpha/2 and 1-alpha/2 quantile from t-distribution '\n",
    "\n",
    "# Obtain t\n",
    "alpha = 0.05 #significance level 5% , so we're constructing a 95% confidence interval (CI)\n",
    "df = r - 1 #degrees of freedom\n",
    "t_lower = t.ppf(alpha / 2, df) #  critical t-value = -2.26\n",
    "t_upper = t.ppf(1 - alpha / 2, df) #  critical t-value = 2.26\n",
    "\n",
    "lower = theta_bar + ( S / np.sqrt(r) ) * t_lower\n",
    "upper = theta_bar + ( S / np.sqrt(r) ) * t_upper\n",
    "\n",
    "print(f\"The 95% CI for the fraction of blocked customers per the simulation is: \\n [{lower:.4f}, {upper:.4f}]\")\n",
    "#The 95% CI for the fraction of blocked customers per the simulation is: [0.1176, 0.1290]"
   ]
  },
  {
   "cell_type": "markdown",
   "id": "971e800f",
   "metadata": {},
   "source": [
    "#### 2. The arrival process is modelled as a renewal process using the same parameters as in Part 1 when possible. Report the fraction of blocked customers, and a confidence interval for this fraction for at least the following two cases"
   ]
  },
  {
   "cell_type": "markdown",
   "id": "c53cbad9",
   "metadata": {},
   "source": [
    "#### (a) Experiment with Erlang distributed inter arrival times The Erlang distribution should have a mean of 1"
   ]
  },
  {
   "cell_type": "markdown",
   "id": "38ba66c4",
   "metadata": {},
   "source": [
    "Change the arrival process to generate arrival times from the Erlang distribution"
   ]
  },
  {
   "cell_type": "code",
   "execution_count": 9,
   "id": "db692314",
   "metadata": {},
   "outputs": [],
   "source": [
    "def simulate_blocking_system_erlang(m, s, arrival_time, n, r):\n",
    "    blocked_customers = []\n",
    "\n",
    "    for _ in range(r):\n",
    "        num_blocked = 0\n",
    "        busy_servers = 0\n",
    "        current_time = 0\n",
    "\n",
    "        # The arrival process interarrival times (Erlang distribution)\n",
    "        inter_arrival_times = np.random.gamma(shape=2, scale=1/2, size=n)\n",
    "\n",
    "        # inter_arrival_times = np.random.poisson(arrival_time, n)\n",
    "        arrival_times = np.cumsum(inter_arrival_times)\n",
    "\n",
    "        # Rervice time distribution as exponential\n",
    "        service_times = np.random.exponential(s, n)\n",
    "        departure_times = np.zeros(n)\n",
    "\n",
    "        # Event queue\n",
    "        events = [(arrival_times[i], 'arriving', i) for i in range(n)]\n",
    "        events.sort()\n",
    "\n",
    "        for e in events:\n",
    "            event_time, event_type, customer_index = e\n",
    "            current_time = event_time\n",
    "\n",
    "            if event_type == 'arriving':\n",
    "                if busy_servers < m:\n",
    "                    busy_servers += 1\n",
    "                    departure_time = current_time + service_times[customer_index]\n",
    "                    departure_times[customer_index] = departure_time\n",
    "                    events.append((departure_time, 'departing', customer_index))\n",
    "                    events.sort() # Re-sort events after adding a departure\n",
    "                else:\n",
    "                    num_blocked += 1\n",
    "            elif event_type == 'departing':\n",
    "                busy_servers -= 1\n",
    "\n",
    "        blocked_customers.append(num_blocked)\n",
    "\n",
    "    return np.array(blocked_customers)\n",
    "\n",
    "# --- Run Simulation ---\n",
    "blocked_customers = simulate_blocking_system_erlang(m, s, 1/l, n, r)\n",
    "blocked_fraction = blocked_customers / n"
   ]
  },
  {
   "cell_type": "code",
   "execution_count": 10,
   "id": "8f7ec055",
   "metadata": {},
   "outputs": [
    {
     "name": "stdout",
     "output_type": "stream",
     "text": [
      "Fraction of blocked customers (simulation method with Erlang distributed arrival times): 0.0940\n"
     ]
    }
   ],
   "source": [
    "# Calculate the fraction of blocked customers\n",
    "mean_blocking_percentage = np.mean(blocked_customers) / n\n",
    "\n",
    "print(f\"Fraction of blocked customers (simulation method with Erlang distributed arrival times): {mean_blocking_percentage:.4f}\")\n",
    "#  0.0940"
   ]
  },
  {
   "cell_type": "code",
   "execution_count": 11,
   "id": "66739f67",
   "metadata": {},
   "outputs": [
    {
     "name": "stdout",
     "output_type": "stream",
     "text": [
      "Mean blocking probability     : 0.093990\n",
      "Sample variance (of estimates): 4.758767e-05\n",
      "The 95% CI for the fraction of blocked customers per the simulation is (Erlang distributed arrival times) \n",
      " [0.0891, 0.0989]\n"
     ]
    }
   ],
   "source": [
    "# number of runs\n",
    "r = len(blocked_customers)\n",
    "\n",
    "# convert counts to probabilities per run\n",
    "theta_hat = blocked_customers / n   # if 'n' is the total offered customers\n",
    "#print(f\"Theta hat     : {theta_hat}\")\n",
    "\n",
    "# sample mean\n",
    "theta_bar = np.sum(theta_hat) / r\n",
    "#theta_bar  = np.mean(theta_hat)\n",
    "\n",
    "# sample variance via the formula you gave\n",
    "S2 = (np.sum(theta_hat**2) - r * theta_bar**2) / (r - 1)\n",
    "#S2         = np.var(theta_hat, ddof=1)\n",
    "S = np.sqrt(S2)\n",
    "\n",
    "print(f\"Mean blocking probability     : {theta_bar:.6f}\") # 0.121880\n",
    "print(f\"Sample variance (of estimates): {S2:.6e}\")        # 2.152400e-05\n",
    "\n",
    "# Obtain alpha/2 and 1-alpha/2 quantile from t-distribution '\n",
    "\n",
    "# Obtain t\n",
    "alpha = 0.05 #significance level 5% , so we're constructing a 95% confidence interval (CI)\n",
    "df = r - 1 #degrees of freedom\n",
    "t_lower = t.ppf(alpha / 2, df) #  critical t-value = -2.26\n",
    "t_upper = t.ppf(1 - alpha / 2, df) #  critical t-value = 2.26\n",
    "\n",
    "lower = theta_bar + ( S / np.sqrt(r) ) * t_lower\n",
    "upper = theta_bar + ( S / np.sqrt(r) ) * t_upper\n",
    "\n",
    "print(f\"The 95% CI for the fraction of blocked customers per the simulation is (Erlang distributed arrival times) \\n [{lower:.4f}, {upper:.4f}]\")\n",
    "\n",
    "# The 95% CI for the fraction of blocked customers per the simulation is (Erlang distributed arrival times): \n",
    "# [0.0891, 0.0989]"
   ]
  },
  {
   "cell_type": "markdown",
   "id": "51a8cdc6",
   "metadata": {},
   "source": [
    "#### (b) hyper exponential inter arrival times. The parameters for the hyper exponential distribution should be \n",
    "$$\n",
    "p_{1} = 0.8, \\lambda_{1} = 0.8333, p_{2} = 0.2, \\lambda_{2} = 5.0\n",
    "$$\n"
   ]
  },
  {
   "cell_type": "markdown",
   "id": "d81c2d42",
   "metadata": {},
   "source": [
    "The hyperexponential distribution has the probability density function given by\n",
    "\n",
    "$$\n",
    "f_{X}(x) = \\sum_{i=1}^{n} f_{Y_{i}}(x) p_{i}\n",
    "$$\n",
    "\n",
    "where $f_{Y_{i}}(x)$ is an exponential distributed random variable with the rate parameters as given.\n"
   ]
  },
  {
   "cell_type": "code",
   "execution_count": 12,
   "id": "339f9987",
   "metadata": {},
   "outputs": [],
   "source": [
    "def hyperexp_distribution(lambda1, lambda2, p1, p2, n):\n",
    "    # Obtain f_Y1(x)\n",
    "    f_Y1 = np.random.exponential(1/lambda1, n)\n",
    "    # Obtain f_Y2(x)\n",
    "    f_Y2 = np.random.exponential(1/lambda2, n)\n",
    "    selector = np.random.rand(n) < p1       \n",
    "    return np.where(selector, f_Y1, f_Y2)"
   ]
  },
  {
   "cell_type": "code",
   "execution_count": 13,
   "id": "6488e656",
   "metadata": {},
   "outputs": [
    {
     "name": "stdout",
     "output_type": "stream",
     "text": [
      "Fraction of blocked customers (simulation method with hyper-exponential distributed arrival times): \n",
      " 0.1371\n"
     ]
    }
   ],
   "source": [
    "def simulate_blocking_system_hyperexp(m, s, arrival_time, n, r):\n",
    "    blocked_customers = []\n",
    "\n",
    "    for _ in range(r):\n",
    "        num_blocked = 0\n",
    "        busy_servers = 0\n",
    "        current_time = 0\n",
    "\n",
    "        # The arrival process interarrival times (Poisson process)\n",
    "        inter_arrival_times = hyperexp_distribution(lambda1=0.8333, lambda2=5.0, p1=0.8, p2=0.2, n=10000)\n",
    " \n",
    "        # inter_arrival_times = np.random.poisson(arrival_time, n)\n",
    "        arrival_times = np.cumsum(inter_arrival_times)\n",
    "\n",
    "        # Rervice time distribution as exponential\n",
    "        service_times = np.random.exponential(s, n)\n",
    "        departure_times = np.zeros(n)\n",
    "\n",
    "        # Event queue\n",
    "        events = [(arrival_times[i], 'arriving', i) for i in range(n)]\n",
    "        events.sort()\n",
    "\n",
    "        for e in events:\n",
    "            event_time, event_type, customer_index = e\n",
    "            current_time = event_time\n",
    "\n",
    "            if event_type == 'arriving':\n",
    "                if busy_servers < m:\n",
    "                    busy_servers += 1\n",
    "                    departure_time = current_time + service_times[customer_index]\n",
    "                    departure_times[customer_index] = departure_time\n",
    "                    events.append((departure_time, 'departing', customer_index))\n",
    "                    events.sort() # Re-sort events after adding a departure\n",
    "                else:\n",
    "                    num_blocked += 1\n",
    "            elif event_type == 'departing':\n",
    "                busy_servers -= 1\n",
    "\n",
    "        blocked_customers.append(num_blocked)\n",
    "\n",
    "    return np.array(blocked_customers)\n",
    "\n",
    "# --- Run Simulation ---\n",
    "# No. of runs\n",
    "r = 10\n",
    "blocked_customers = simulate_blocking_system_hyperexp(m, s, arrival_time, n, r)\n",
    "blocked_fraction = blocked_customers / n\n",
    "\n",
    "# Compute the fraction of blocked customers\n",
    "mean_blocking_percentage = np.mean(blocked_customers) / n\n",
    "print(f\"Fraction of blocked customers (simulation method with hyper-exponential distributed arrival times): \\n {mean_blocking_percentage:.4f}\")\n",
    "# Fraction of blocked customers (simulation method with hyper-exponential distributed arrival times): \n",
    "# 0.1371"
   ]
  },
  {
   "cell_type": "code",
   "execution_count": 14,
   "id": "b9c0058d",
   "metadata": {},
   "outputs": [
    {
     "name": "stdout",
     "output_type": "stream",
     "text": [
      "Mean blocking probability     : 0.137130\n",
      "Sample variance (of estimates): 6.342456e-05\n",
      "The 95% CI for the fraction of blocked customers per the simulation is (hyper-exponential distributed arrival times): \n",
      " [0.1314, 0.1428]\n"
     ]
    }
   ],
   "source": [
    "# number of runs\n",
    "r = len(blocked_customers)\n",
    "\n",
    "# convert counts to probabilities per run\n",
    "theta_hat = blocked_customers / n   # if 'n' is the total offered customers\n",
    "#print(f\"Theta hat     : {theta_hat}\")\n",
    "\n",
    "# sample mean\n",
    "theta_bar = np.sum(theta_hat) / r\n",
    "#theta_bar  = np.mean(theta_hat)\n",
    "\n",
    "# sample variance via the formula you gave\n",
    "S2 = (np.sum(theta_hat**2) - r * theta_bar**2) / (r - 1)\n",
    "#S2         = np.var(theta_hat, ddof=1)\n",
    "S = np.sqrt(S2)\n",
    "\n",
    "print(f\"Mean blocking probability     : {theta_bar:.6f}\") # Mean blocking probability: 0.137130\n",
    "print(f\"Sample variance (of estimates): {S2:.6e}\")\n",
    "\n",
    "# Obtain alpha/2 and 1-alpha/2 quantile from t-distribution '\n",
    "\n",
    "# Obtain t\n",
    "alpha = 0.05 #significance level 5% , so we're constructing a 95% confidence interval (CI)\n",
    "df = r - 1 #degrees of freedom\n",
    "t_lower = t.ppf(alpha / 2, df) #  critical t-value = -2.26\n",
    "t_upper = t.ppf(1 - alpha / 2, df) #  critical t-value = 2.26\n",
    "\n",
    "lower = theta_bar + ( S / np.sqrt(r) ) * t_lower\n",
    "upper = theta_bar + ( S / np.sqrt(r) ) * t_upper\n",
    "\n",
    "print(f\"The 95% CI for the fraction of blocked customers per the simulation is (hyper-exponential distributed arrival times): \\n [{lower:.4f}, {upper:.4f}]\")\n",
    "# The 95% CI for the fraction of blocked customers per the simulation is: \n",
    "# [0.1314, 0.1428]"
   ]
  },
  {
   "cell_type": "markdown",
   "id": "e9fd3ca0",
   "metadata": {},
   "source": [
    "#### 3. The arrival process is again a Poisson process like in Part 1. Experiment with different service time distributions with the same mean service time and m as in Part 1 and Part 2."
   ]
  },
  {
   "cell_type": "markdown",
   "id": "d5b698a5",
   "metadata": {},
   "source": [
    "#### (a) Constant service time"
   ]
  },
  {
   "cell_type": "markdown",
   "id": "2bf61617",
   "metadata": {},
   "source": [
    "The service time is now simply 'mean service time' = 8 * units for every customer.\n",
    "\n",
    "service_times = s * np.ones(n)"
   ]
  },
  {
   "cell_type": "code",
   "execution_count": 15,
   "id": "02e5cfb0",
   "metadata": {},
   "outputs": [],
   "source": [
    "def simulate_blocking_system_cons(m, s, arrival_time, n, r):\n",
    "    blocked_customers = []\n",
    "\n",
    "    for _ in range(r):\n",
    "        num_blocked = 0\n",
    "        busy_servers = 0\n",
    "        current_time = 0\n",
    "\n",
    "        # The arrival process interarrival times (Poisson process)\n",
    "        inter_arrival_times = np.random.exponential(arrival_time, n)\n",
    "        arrival_times = np.cumsum(inter_arrival_times)\n",
    "\n",
    "        # Service times constant\n",
    "        service_times = s * np.ones(n)\n",
    "        departure_times = np.zeros(n)\n",
    "\n",
    "        # Event queue\n",
    "        events = [(arrival_times[i], 'arriving', i) for i in range(n)]\n",
    "        events.sort()\n",
    "\n",
    "        for e in events:\n",
    "            event_time, event_type, customer_index = e\n",
    "            current_time = event_time\n",
    "\n",
    "            if event_type == 'arriving':\n",
    "                if busy_servers < m:\n",
    "                    busy_servers += 1\n",
    "                    departure_time = current_time + service_times[customer_index]\n",
    "                    departure_times[customer_index] = departure_time\n",
    "                    events.append((departure_time, 'departing', customer_index))\n",
    "                    events.sort() # Re-sort events after adding a departure\n",
    "                else:\n",
    "                    num_blocked += 1\n",
    "            elif event_type == 'departing':\n",
    "                busy_servers -= 1\n",
    "\n",
    "        blocked_customers.append(num_blocked)\n",
    "\n",
    "    return np.array(blocked_customers)\n",
    "\n",
    "# --- Run Simulation ---\n",
    "\n",
    "# No. of runs\n",
    "r = 10\n",
    "\n",
    "blocked_customers = simulate_blocking_system_cons(m, s, 1/l, n, r)\n",
    "blocked_fraction = blocked_customers / n"
   ]
  },
  {
   "cell_type": "code",
   "execution_count": 16,
   "id": "07a5fd77",
   "metadata": {},
   "outputs": [
    {
     "name": "stdout",
     "output_type": "stream",
     "text": [
      "Fraction of blocked customers (simulation method with constant service times and poisson distributed arrival times): \n",
      " 0.1210\n",
      "Mean blocking probability     : 0.121030\n",
      "Sample variance (of estimates): 1.788678e-05\n",
      "The 95% CI for the fraction of blocked customers per the simulation is: \n",
      " [0.1180, 0.1241]\n"
     ]
    }
   ],
   "source": [
    "# Compute the fraction of blocked customers\n",
    "mean_blocking_percentage = np.mean(blocked_customers) / n\n",
    "print(f\"Fraction of blocked customers (simulation method with constant service times and poisson distributed arrival times): \\n {mean_blocking_percentage:.4f}\")\n",
    "# Fraction of blocked customers (simulation method with constant \n",
    "# service times and poisson distributed arrival times): 0.1210\n",
    " \n",
    "# number of runs\n",
    "r = len(blocked_customers)\n",
    "\n",
    "# convert counts to probabilities per run\n",
    "theta_hat = blocked_customers / n   # if 'n' is the total offered customers\n",
    "#print(f\"Theta hat     : {theta_hat}\")\n",
    "\n",
    "# sample mean\n",
    "theta_bar = np.sum(theta_hat) / r\n",
    "#theta_bar  = np.mean(theta_hat)\n",
    "\n",
    "# sample variance via the formula you gave\n",
    "S2 = (np.sum(theta_hat**2) - r * theta_bar**2) / (r - 1)\n",
    "#S2         = np.var(theta_hat, ddof=1)\n",
    "S = np.sqrt(S2)\n",
    "\n",
    "print(f\"Mean blocking probability     : {theta_bar:.6f}\")\n",
    "print(f\"Sample variance (of estimates): {S2:.6e}\")\n",
    "\n",
    "# Obtain alpha/2 and 1-alpha/2 quantile from t-distribution '\n",
    "\n",
    "# Obtain t\n",
    "alpha = 0.05 #significance level 5% , so we're constructing a 95% confidence interval (CI)\n",
    "df = r - 1 #degrees of freedom\n",
    "t_lower = t.ppf(alpha / 2, df) #  critical t-value = -2.26\n",
    "t_upper = t.ppf(1 - alpha / 2, df) #  critical t-value = 2.26\n",
    "\n",
    "lower = theta_bar + ( S / np.sqrt(r) ) * t_lower\n",
    "upper = theta_bar + ( S / np.sqrt(r) ) * t_upper\n",
    "\n",
    "print(f\"The 95% CI for the fraction of blocked customers per the simulation is: \\n [{lower:.4f}, {upper:.4f}]\")\n",
    "# The 95% CI for the fraction of blocked customers per the simulation is: \n",
    "# [0.1180, 0.1241]"
   ]
  },
  {
   "cell_type": "markdown",
   "id": "b46de38a",
   "metadata": {},
   "source": [
    "#### (b) Pareto distributed service times with at least k = 1.05 and k = 2.05."
   ]
  },
  {
   "cell_type": "code",
   "execution_count": 37,
   "id": "904edbbd",
   "metadata": {},
   "outputs": [],
   "source": [
    "def simulate_blocking_system_pareto(m, s, arrival_time, n, r, k):\n",
    "    blocked_customers = []\n",
    "\n",
    "    for _ in range(r):\n",
    "        \n",
    "        num_blocked = 0\n",
    "        busy_servers = 0\n",
    "        current_time = 0\n",
    "        \n",
    "        # The arrival process interarrival times (Poisson process)\n",
    "        inter_arrival_times = np.random.exponential(arrival_time, n)\n",
    "        arrival_times = np.cumsum(inter_arrival_times)\n",
    "  \n",
    "        # Generate pareto service times via inverse‐transform\n",
    "        beta =  s * (k - 1) / k\n",
    "        U    = np.random.uniform(0, 1, n)\n",
    "        service_times = beta * (U**(-1 / k) - 1)\n",
    "\n",
    "        # Generate service times from pareto distribution\n",
    "        #service_times = beta * (np.random.pareto(k, n) + 1)\n",
    "        \n",
    "        departure_times = np.zeros(n)\n",
    "        \n",
    "        # Event queue\n",
    "        events = []\n",
    "        \n",
    "        for i in range(n):\n",
    "            events.append((arrival_times[i], 'arriving', i))\n",
    "        \n",
    "        # Sort events per time\n",
    "        events.sort() \n",
    "\n",
    "        for e in events:\n",
    "            event_time, event_type, customer_index = e\n",
    "            current_time = event_time\n",
    "\n",
    "            if event_type == 'arriving':\n",
    "                if busy_servers < m:\n",
    "                    \n",
    "                    busy_servers += 1\n",
    "                    departure_time = current_time + service_times[customer_index]\n",
    "                    departure_times[customer_index] = departure_time\n",
    "                    events.append((departure_time, 'departing', customer_index))\n",
    "                    \n",
    "                    # Re-sort events after adding a departure\n",
    "                    events.sort()\n",
    "                else:\n",
    "                    num_blocked += 1\n",
    "            elif event_type == 'departing':\n",
    "                busy_servers -= 1\n",
    "\n",
    "        blocked_customers.append(num_blocked)\n",
    "\n",
    "    return np.array(blocked_customers)\n",
    "\n",
    "# No. of runs\n",
    "r = 10\n",
    "\n",
    "# Simulate to obtain no. of blocked customers\n",
    "k = np.array([1.05, 2.05])\n",
    "blocked_customers = np.zeros((r, len(k)))\n",
    "\n",
    "for i in range(len(k)):\n",
    "    blocked = simulate_blocking_system_pareto(m, s, 1/l, n, r, k[i])\n",
    "    blocked_customers[:,i] = blocked"
   ]
  },
  {
   "cell_type": "code",
   "execution_count": 36,
   "id": "95ce98a0",
   "metadata": {},
   "outputs": [
    {
     "name": "stdout",
     "output_type": "stream",
     "text": [
      "k = 1.05 →  p̂ = 0.0011, 95% CI [0.0000, 0.0022]\n",
      "k = 2.05 →  p̂ = 0.1213, 95% CI [0.1164, 0.1261]\n"
     ]
    }
   ],
   "source": [
    "for idx, shape in enumerate(k):\n",
    "    # number of runs\n",
    "    r = len(blocked_customers)\n",
    "\n",
    "    # convert counts to probabilities per run\n",
    "    theta_hat = blocked_customers[:, idx] / n   # length r vector\n",
    "    #print(f\"Theta hat     : {theta_hat}\")\n",
    "\n",
    "    # sample mean\n",
    "    theta_bar = np.sum(theta_hat) / r \n",
    "    #theta_bar  = np.mean(theta_hat)\n",
    "    # sample variance via the formula you gave\n",
    "    S2 = (np.sum(theta_hat**2) - r * theta_bar**2) / (r - 1)\n",
    "    #S2         = np.var(theta_hat, ddof=1)\n",
    "    S = np.sqrt(S2)\n",
    "\n",
    "    #print(f\"Mean blocking probability     : {theta_bar:.6f}\")\n",
    "    #print(f\"Sample variance (of estimates): {S2:.6e}\")\n",
    "\n",
    "    # Obtain alpha/2 and 1-alpha/2 quantile from t-distribution\n",
    "    # Obtain t\n",
    "    alpha = 0.05 #significance level 5% , so we're constructing a 95% confidence interval (CI)\n",
    "    df = r - 1\n",
    "    t_lower = t.ppf(alpha / 2, df) #  critical t-value = -2.26 (df = 9)\n",
    "    t_upper = t.ppf(1 - alpha / 2, df) #  critical t-value = 2.26  (df = 9)\n",
    "    \n",
    "    lower = theta_bar + ( S / np.sqrt(r) ) * t_lower\n",
    "    upper = theta_bar + ( S / np.sqrt(r) ) * t_upper\n",
    "\n",
    "    print(f\"k = {shape:.2f} →  p̂ = {theta_bar:.4f}, \"\n",
    "          f\"95% CI [{lower:.4f}, {upper:.4f}]\")"
   ]
  },
  {
   "cell_type": "markdown",
   "id": "d0996f54",
   "metadata": {},
   "source": [
    "#### (c) Choose one or two other distributions."
   ]
  },
  {
   "cell_type": "markdown",
   "id": "9b570526",
   "metadata": {},
   "source": [
    "We can try with the log-normal distribution for the service times. We let $\\mathrm{E}(X)=8$ and $\\mathrm{Var}(x)=1$ (assumption). We get $\\mu$ and $\\sigma$ for the log-normal distribution as\n",
    "\n",
    "$$\n",
    "\\mu = \\ln \\left( \\frac{\\mathrm{E}(x)^{2}}{\\sqrt{\\mathrm{E}(x)^{2} + \\mathrm{Var}(x)^{2}}} \\right) \\hspace{0.3cm} , \\hspace{0.3cm} \\sigma^2 = \\ln\\left( 1 + \\frac{\\mathrm{Var}(X)}{\\mathrm{E}(X)^2} \\right)\n",
    "$$ \n"
   ]
  },
  {
   "cell_type": "code",
   "execution_count": 39,
   "id": "95d0e30e",
   "metadata": {},
   "outputs": [],
   "source": [
    "def simulate_blocking_system_lognorm(m, s, arrival_time, n, r):\n",
    "    blocked_customers = []\n",
    "\n",
    "    for _ in range(r):\n",
    "        \n",
    "        num_blocked = 0\n",
    "        busy_servers = 0\n",
    "        current_time = 0\n",
    "\n",
    "        # The arrival process interarrival times (Poisson process)\n",
    "        inter_arrival_times = np.random.exponential(arrival_time, n)\n",
    "        arrival_times = np.cumsum(inter_arrival_times)\n",
    "        \n",
    "        # Assuming a reasonable variance to calculate parameters (for log-normal distrubtion)\n",
    "        var = 1 # Assumption\n",
    "        \n",
    "        # Calculate mu and sigma for the underlying normal distribution\n",
    "        mu = np.log(s**2 / np.sqrt(var + s**2))\n",
    "        sigma = np.sqrt(np.log(var / s**2 + 1))\n",
    "        \n",
    "        # Generate service times from log-normal distribution\n",
    "        service_times = np.random.lognormal(mu, sigma, n)\n",
    "        \n",
    "        departure_times = np.zeros(n)\n",
    "        \n",
    "        # Event queue\n",
    "        events = []\n",
    "        \n",
    "        for i in range(n):\n",
    "            events.append((arrival_times[i], 'arriving', i))\n",
    "        \n",
    "        # Sort events per time\n",
    "        events.sort() \n",
    "\n",
    "        for e in events:\n",
    "            event_time, event_type, customer_index = e\n",
    "            current_time = event_time\n",
    "\n",
    "            if event_type == 'arriving':\n",
    "                if busy_servers < m:\n",
    "                    \n",
    "                    busy_servers += 1\n",
    "                    departure_time = current_time + service_times[customer_index]\n",
    "                    departure_times[customer_index] = departure_time\n",
    "                    events.append((departure_time, 'departing', customer_index))\n",
    "                    \n",
    "                    # Re-sort events after adding a departure\n",
    "                    events.sort()\n",
    "                else:\n",
    "                    num_blocked += 1\n",
    "            elif event_type == 'departing':\n",
    "                busy_servers -= 1\n",
    "\n",
    "        blocked_customers.append(num_blocked)\n",
    "\n",
    "    return blocked_customers\n",
    "\n",
    "# No. of runs\n",
    "r = 10\n",
    "\n",
    "# Simulate to obtain no. of blocked customers\n",
    "blocked_customers = simulate_blocking_system_lognorm(m, s, 1/l, n, r)\n",
    "blocked_customers = np.array(blocked_customers)"
   ]
  },
  {
   "cell_type": "code",
   "execution_count": null,
   "id": "dd80fc96",
   "metadata": {},
   "outputs": [
    {
     "name": "stdout",
     "output_type": "stream",
     "text": [
      "Fraction of blocked customers (simulation method with log-normal service times): \n",
      " 0.1219\n",
      "The 95% CI for the fraction of blocked customers per the simulation (log-normal service times and poisson distributed arrival times) is: \n",
      " [0.1186, 0.1252]\n"
     ]
    }
   ],
   "source": [
    "# Compute the fraction of blocked customers\n",
    "mean_blocking_percentage = np.mean(blocked_customers) / n\n",
    "print(f\"Fraction of blocked customers (simulation method with log-normal service times): \\n {mean_blocking_percentage:.4f}\")\n",
    "#  0.1219\n",
    "\n",
    "# number of runs\n",
    "r = len(blocked_customers)\n",
    "\n",
    "# convert counts to probabilities per run\n",
    "theta_hat = blocked_customers / n   # if 'n' is the total offered customers\n",
    "#print(f\"Theta hat     : {theta_hat}\")\n",
    "\n",
    "# sample mean\n",
    "theta_bar = np.sum(theta_hat) / r\n",
    "#theta_bar  = np.mean(theta_hat)\n",
    "\n",
    "# sample variance via the formula you gave\n",
    "S2 = (np.sum(theta_hat**2) - r * theta_bar**2) / (r - 1)\n",
    "#S2         = np.var(theta_hat, ddof=1)\n",
    "S = np.sqrt(S2)\n",
    "\n",
    "#print(f\"Mean blocking probability     : {theta_bar:.6f}\")\n",
    "#print(f\"Sample variance (of estimates): {S2:.6e}\")\n",
    "\n",
    "# Obtain alpha/2 and 1-alpha/2 quantile from t-distribution '\n",
    "\n",
    "# Obtain t\n",
    "alpha = 0.05 #significance level 5% , so we're constructing a 95% confidence interval (CI)\n",
    "df = r - 1 #degrees of freedom\n",
    "t_lower = t.ppf(alpha / 2, df) #  critical t-value = -2.26\n",
    "t_upper = t.ppf(1 - alpha / 2, df) #  critical t-value = 2.26\n",
    "\n",
    "lower = theta_bar + ( S / np.sqrt(r) ) * t_lower\n",
    "upper = theta_bar + ( S / np.sqrt(r) ) * t_upper\n",
    "\n",
    "print(f\"The 95% CI for the fraction of blocked customers per the simulation (log-normal service times and poisson distributed arrival times) is: \\n [{lower:.4f}, {upper:.4f}]\")\n",
    "# The 95% CI for the fraction of blocked customers per the simulation is: \n",
    "# [0.1186, 0.1252]"
   ]
  },
  {
   "cell_type": "markdown",
   "id": "6885fc98",
   "metadata": {},
   "source": [
    "#### 4. Compare confidence intervals for Parts 1, 2, and 3 then interpret and explain differences if any."
   ]
  },
  {
   "cell_type": "code",
   "execution_count": 156,
   "id": "8f705f33",
   "metadata": {},
   "outputs": [
    {
     "data": {
      "image/png": "[encoded data removed]",
      "text/plain": [
       "<Figure size 1000x400 with 2 Axes>"
      ]
     },
     "metadata": {},
     "output_type": "display_data"
    }
   ],
   "source": [
    "# Generate Pareto samples for k=1.05, k=2.05\n",
    "n = 10000\n",
    "k = [1.05, 2.05]\n",
    "samples = np.zeros((n, len(k)))\n",
    "for i in range(len(k)):\n",
    "    pareto_samples = np.random.pareto(k[i], n)\n",
    "    samples[:,i] = pareto_samples\n",
    "\n",
    "# Plotting\n",
    "plt.subplots(1,2, figsize=(10,4))\n",
    "\n",
    "plt.subplot(1,2,1)\n",
    "plt.hist(samples[:,0], bins=2500, edgecolor='black')\n",
    "plt.xlim(0, 100)\n",
    "plt.xlabel('Serivce Time')\n",
    "plt.ylabel('Count')\n",
    "plt.title(r'$k=1.05$')\n",
    "\n",
    "plt.subplot(1,2,2)\n",
    "plt.hist(samples[:,1], bins=180, color='red', edgecolor='black')\n",
    "plt.xlim(0, 35)\n",
    "plt.xlabel('Serivce Time')\n",
    "plt.ylabel('Count')\n",
    "plt.title(r'$k=2.05$')\n",
    "\n",
    "plt.tight_layout()\n",
    "plt.show()\n"
   ]
  }
 ],
 "metadata": {
  "kernelspec": {
   "display_name": "timesfm-env",
   "language": "python",
   "name": "python3"
  },
  "language_info": {
   "codemirror_mode": {
    "name": "ipython",
    "version": 3
   },
   "file_extension": ".py",
   "mimetype": "text/x-python",
   "name": "python",
   "nbconvert_exporter": "python",
   "pygments_lexer": "ipython3",
   "version": "3.10.16"
  }
 },
 "nbformat": 4,
 "nbformat_minor": 5
}
