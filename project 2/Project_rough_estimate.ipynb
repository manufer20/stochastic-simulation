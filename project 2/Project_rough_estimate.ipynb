{
 "cells": [
  {
   "cell_type": "code",
   "execution_count": 1,
   "id": "2a3058e6",
   "metadata": {},
   "outputs": [
    {
     "name": "stdout",
     "output_type": "stream",
     "text": [
      "[0.54199389]\n"
     ]
    }
   ],
   "source": [
    "import numpy as np\n",
    "\n",
    "# Create a Generator using MT19937\n",
    "bitgen = np.random.MT19937(seed=42)\n",
    "rng = np.random.Generator(bitgen)\n",
    "\n",
    "# Use this generator to sample\n",
    "print(rng.uniform(0, 1, 1))  # Now uses seeded MT19937"
   ]
  },
  {
   "cell_type": "code",
   "execution_count": 2,
   "id": "98200a63",
   "metadata": {},
   "outputs": [],
   "source": [
    "#import numpy as np\n",
    "import random\n",
    "import heapq\n",
    "from scipy.stats import t\n",
    "from scipy import stats\n",
    "import matplotlib.pyplot as plt\n",
    "import pandas as pd\n",
    "import copy\n"
   ]
  },
  {
   "cell_type": "markdown",
   "id": "19ca4435",
   "metadata": {},
   "source": [
    "Considering that **Ward F is allocated 34 beds**, the **total number of beds** available for the remaining wards is:\n",
    "\n",
    "$$\n",
    "B_N = 165 \\quad \\Rightarrow \\quad B_{\\text{remaining}} = B_N - 34 = 131\n",
    "$$\n",
    "\n",
    "To estimate how many beds should be allocated to **Ward A**, we compute a **priority-weighted share** based on:\n",
    "\n",
    "- $ \\lambda_i $: patient arrival rate to ward $ i $\n",
    "- $ \\mu_i $: service rate (i.e., discharge rate), where $ \\frac{1}{\\mu_i} $ is the mean length of stay\n",
    "- $ UP_i $: urgency points for ward $ i $\n",
    "\n",
    "We define a **priority-weighted blocking likelihood** for Ward A as:\n",
    "\n",
    "$$\n",
    "\\Pr(B_A) = \\frac{\\lambda_A \\cdot \\frac{1}{\\mu_A} \\cdot UP_A}{\\sum\\limits_{i \\in \\{A, B, C, D, E\\}} \\lambda_i \\cdot \\frac{1}{\\mu_i} \\cdot UP_i}\n",
    "$$\n",
    "\n",
    "Then, the **suggested number of beds** to allocate to Ward A is:\n",
    "\n",
    "$$\n",
    "B_A = \\Pr(B_A) \\cdot B_{\\text{remaining}} = \\Pr(B_A) \\cdot (B_N - 34)\n",
    "$$\n",
    "\n",
    "This allocation accounts for each ward's demand pressure (arrival rate and length of stay) and the criticality of avoiding rejections (urgency points).\n"
   ]
  },
  {
   "cell_type": "code",
   "execution_count": 3,
   "id": "95258d60",
   "metadata": {},
   "outputs": [
    {
     "data": {
      "text/html": [
       "<div>\n",
       "<style scoped>\n",
       "    .dataframe tbody tr th:only-of-type {\n",
       "        vertical-align: middle;\n",
       "    }\n",
       "\n",
       "    .dataframe tbody tr th {\n",
       "        vertical-align: top;\n",
       "    }\n",
       "\n",
       "    .dataframe thead th {\n",
       "        text-align: right;\n",
       "    }\n",
       "</style>\n",
       "<table border=\"1\" class=\"dataframe\">\n",
       "  <thead>\n",
       "    <tr style=\"text-align: right;\">\n",
       "      <th></th>\n",
       "      <th>Ward</th>\n",
       "      <th>Estimated Beds</th>\n",
       "    </tr>\n",
       "  </thead>\n",
       "  <tbody>\n",
       "    <tr>\n",
       "      <th>0</th>\n",
       "      <td>A</td>\n",
       "      <td>50</td>\n",
       "    </tr>\n",
       "    <tr>\n",
       "      <th>1</th>\n",
       "      <td>B</td>\n",
       "      <td>37</td>\n",
       "    </tr>\n",
       "    <tr>\n",
       "      <th>2</th>\n",
       "      <td>C</td>\n",
       "      <td>12</td>\n",
       "    </tr>\n",
       "    <tr>\n",
       "      <th>3</th>\n",
       "      <td>D</td>\n",
       "      <td>15</td>\n",
       "    </tr>\n",
       "    <tr>\n",
       "      <th>4</th>\n",
       "      <td>E</td>\n",
       "      <td>16</td>\n",
       "    </tr>\n",
       "  </tbody>\n",
       "</table>\n",
       "</div>"
      ],
      "text/plain": [
       "  Ward  Estimated Beds\n",
       "0    A              50\n",
       "1    B              37\n",
       "2    C              12\n",
       "3    D              15\n",
       "4    E              16"
      ]
     },
     "execution_count": 3,
     "metadata": {},
     "output_type": "execute_result"
    }
   ],
   "source": [
    "# Define parameters for wards A–E\n",
    "wards = ['A', 'B', 'C', 'D', 'E']\n",
    "\n",
    "# Given data\n",
    "arrival_rates = {'A': 14.5, 'B': 11.0, 'C': 8.0, 'D': 6.5, 'E': 5.0}\n",
    "mean_stays = {'A': 2.9, 'B': 4.0, 'C': 4.5, 'D': 1.4, 'E': 3.9}  # 1/mu\n",
    "urgency_points = {'A': 7, 'B': 5, 'C': 2, 'D': 10, 'E': 5}\n",
    "\n",
    "# Total beds and fixed beds for Ward F\n",
    "total_beds = 165\n",
    "beds_for_F = 34\n",
    "remaining_beds = total_beds - beds_for_F\n",
    "\n",
    "# Calculate priority weights\n",
    "priority_weights = {}\n",
    "denominator = sum(arrival_rates[w] * mean_stays[w] * urgency_points[w] for w in wards)\n",
    "for w in wards:\n",
    "    numerator = arrival_rates[w] * mean_stays[w] * urgency_points[w]\n",
    "    priority_weights[w] = numerator / denominator\n",
    "\n",
    "# Compute bed allocation\n",
    "bed_allocation = {w: round(priority_weights[w] * remaining_beds) for w in wards}\n",
    "import pandas as pd\n",
    "\n",
    "# Reconstruct bed allocation dictionary as a DataFrame\n",
    "bed_allocation_df = pd.DataFrame.from_dict(bed_allocation, orient='index', columns=[\"Estimated Beds\"])\n",
    "bed_allocation_df.index.name = \"Ward\"\n",
    "bed_allocation_df.reset_index(inplace=True)\n",
    "\n",
    "bed_allocation_df"
   ]
  }
 ],
 "metadata": {
  "kernelspec": {
   "display_name": "timesfm-env",
   "language": "python",
   "name": "python3"
  },
  "language_info": {
   "codemirror_mode": {
    "name": "ipython",
    "version": 3
   },
   "file_extension": ".py",
   "mimetype": "text/x-python",
   "name": "python",
   "nbconvert_exporter": "python",
   "pygments_lexer": "ipython3",
   "version": "3.10.16"
  }
 },
 "nbformat": 4,
 "nbformat_minor": 5
}
