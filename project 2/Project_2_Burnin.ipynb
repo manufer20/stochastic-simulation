{
 "cells": [
  {
   "cell_type": "markdown",
   "id": "2d67a6e6",
   "metadata": {},
   "source": [
    "#### Dont use this code (Old Version)"
   ]
  },
  {
   "cell_type": "code",
   "execution_count": null,
   "id": "5094bd3e",
   "metadata": {},
   "outputs": [
    {
     "name": "stdout",
     "output_type": "stream",
     "text": [
      "[0.54199389]\n"
     ]
    }
   ],
   "source": [
    "import numpy as np\n",
    "\n",
    "# Create a Generator using MT19937\n",
    "bitgen = np.random.MT19937(seed=42)\n",
    "rng = np.random.Generator(bitgen)\n",
    "\n",
    "# Use this generator to sample\n",
    "print(rng.uniform(0, 1, 1))  # Now uses seeded MT19937"
   ]
  },
  {
   "cell_type": "code",
   "execution_count": null,
   "id": "1c0a2dd3",
   "metadata": {},
   "outputs": [],
   "source": [
    "#import numpy as np\n",
    "import random\n",
    "import heapq\n",
    "from scipy.stats import t\n",
    "from scipy import stats\n",
    "import matplotlib.pyplot as plt\n",
    "import pandas as pd\n",
    "import copy"
   ]
  },
  {
   "cell_type": "markdown",
   "id": "33720a5b",
   "metadata": {},
   "source": [
    "#### Ward simulation"
   ]
  },
  {
   "cell_type": "markdown",
   "id": "717b02d7",
   "metadata": {},
   "source": [
    "The plot below shows bed occupancy over time for each ward during the burn-in period."
   ]
  },
  {
   "cell_type": "code",
   "execution_count": null,
   "id": "425e94f5",
   "metadata": {},
   "outputs": [],
   "source": [
    "def simulate_burnin_occupancy(n=3000, burn_in=1000, capacity=None, lambda_rates=None, mu_rates=None, P=None, track_time=50):\n",
    "    \"\"\"\n",
    "    Simulates hospital ward occupancy over time to determine burn-in period.\n",
    "    Returns occupancy time series for each ward.\n",
    "    \"\"\"\n",
    "    if capacity is None:\n",
    "        capacity = [55, 40, 30, 20, 20]\n",
    "    if lambda_rates is None:\n",
    "        lambda_rates = [14.5, 11.0, 8.0, 6.5, 5.0]\n",
    "    if mu_rates is None:\n",
    "        mu_rates = [1/2.9, 1/4.0, 1/4.5, 1/1.4, 1/3.9]\n",
    "    if P is None:\n",
    "        P = np.array([\n",
    "            [0.0, 0.05, 0.10, 0.05, 0.80],\n",
    "            [0.20, 0.0, 0.50, 0.15, 0.15],\n",
    "            [0.30, 0.20, 0.0, 0.20, 0.30],\n",
    "            [0.35, 0.30, 0.05, 0.0, 0.30],\n",
    "            [0.20, 0.10, 0.60, 0.10, 0.0]\n",
    "        ])\n",
    "        \n",
    "\n",
    "    m = len(capacity)\n",
    "    max_capacity = max(capacity)\n",
    "    beds = np.full((m, max_capacity), np.nan)\n",
    "    for i in range(m):\n",
    "        beds[i, :capacity[i]] = 0  # initialize all usable beds to free\n",
    "\n",
    "    occupancy_time_series = [[] for _ in range(m)]\n",
    "    current_time = 0\n",
    "\n",
    "    for i in range(burn_in):\n",
    "        arrival_time = np.random.exponential(1 / sum(lambda_rates))\n",
    "        current_time += arrival_time\n",
    "        beds = np.where(np.isnan(beds), np.nan, beds - arrival_time)\n",
    "\n",
    "        patient_type = np.random.choice(m, p=np.array(lambda_rates) / sum(lambda_rates))\n",
    "        assigned_ward = patient_type\n",
    "        los = np.random.exponential(1 / mu_rates[patient_type])\n",
    "\n",
    "        bed_index = np.nanargmin(beds[assigned_ward])\n",
    "        bed_time = beds[assigned_ward, bed_index]\n",
    "\n",
    "        if bed_time <= 0:\n",
    "            beds[assigned_ward, bed_index] = los\n",
    "        else:\n",
    "            assigned_ward = np.random.choice(m, p=P[patient_type])\n",
    "            bed_index = np.nanargmin(beds[assigned_ward])\n",
    "            bed_time = beds[assigned_ward, bed_index]\n",
    "            if bed_time <= 0:\n",
    "                beds[assigned_ward, bed_index] = los\n",
    "            # else lost (not tracked here)\n",
    "\n",
    "        if i % (burn_in // track_time) == 0:\n",
    "            for j in range(m):\n",
    "                occ = np.sum(beds[j, :] > 0)\n",
    "                occupancy_time_series[j].append(occ)\n",
    "\n",
    "    return occupancy_time_series, capacity\n",
    "\n",
    "# Run and plot\n",
    "occupancy_time_series, capacity = simulate_burnin_occupancy()\n",
    "wards = ['A', 'B', 'C', 'D', 'E']\n",
    "\n",
    "plt.figure(figsize=(12, 6))\n",
    "for i, series in enumerate(occupancy_time_series):\n",
    "    plt.plot(series, label=f\"Ward {wards[i]} (Cap={capacity[i]})\")\n",
    "plt.xlabel(\"Simulation Steps (relative to burn-in)\")\n",
    "plt.ylabel(\"Beds Occupied\")\n",
    "plt.title(\"Ward Occupancy Over Time During Burn-in\")\n",
    "plt.legend()\n",
    "plt.grid(True)\n",
    "plt.tight_layout()\n",
    "plt.show()\n"
   ]
  }
 ],
 "metadata": {
  "kernelspec": {
   "display_name": "timesfm-env",
   "language": "python",
   "name": "python3"
  },
  "language_info": {
   "codemirror_mode": {
    "name": "ipython",
    "version": 3
   },
   "file_extension": ".py",
   "mimetype": "text/x-python",
   "name": "python",
   "nbconvert_exporter": "python",
   "pygments_lexer": "ipython3",
   "version": "3.10.16"
  }
 },
 "nbformat": 4,
 "nbformat_minor": 5
}
