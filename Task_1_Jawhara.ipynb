{
 "cells": [
  {
   "cell_type": "markdown",
   "id": "f730c8ad",
   "metadata": {},
   "source": [
    "#### Part 1: A discrete-time model"
   ]
  },
  {
   "cell_type": "code",
   "execution_count": 31,
   "id": "1844e792",
   "metadata": {},
   "outputs": [],
   "source": [
    "import numpy as np\n",
    "import matplotlib.pyplot as plt\n",
    "import math\n",
    "import seaborn as sns\n",
    "\n",
    "from scipy.stats import t\n",
    "from scipy import stats\n",
    "np.random.seed(42)\n"
   ]
  },
  {
   "cell_type": "markdown",
   "id": "72515c33",
   "metadata": {},
   "source": [
    "We are following the Markov model in order to model discrete time. Thw model follows women after they had their breast tumor removed. The cancer may reappear close to the removed tumor. The probability of the tumor recurances are following the 5 states:\n",
    "\n",
    "0: Post-surgery (initial state)\n",
    "\n",
    "1: Local recurrence\n",
    "\n",
    "2: Distant metastasis\n",
    "\n",
    "3: Both local and distant\n",
    "\n",
    "4: Death (absorbing state — once entered, cannot leave)"
   ]
  },
  {
   "cell_type": "markdown",
   "id": "0d03542b",
   "metadata": {},
   "source": [
    "We simulate 1000 women each state 0. One step = 1 month. Stop simulation when patient reaches state 4. \n",
    "\n",
    "\n",
    "Assume that one time step equals one month. Simulate 1000 women, all\n",
    "starting in state 1, until death. Summarize the lifetime distribution of the\n",
    "women, after surgery, for example using a histogram. In what proportion of\n",
    "women does the cancer eventually reappear, locally?"
   ]
  },
  {
   "cell_type": "code",
   "execution_count": null,
   "id": "4fbad62b",
   "metadata": {},
   "outputs": [
    {
     "name": "stdout",
     "output_type": "stream",
     "text": [
      "The proportion of women with local recurrence is: 0.5890\n"
     ]
    }
   ],
   "source": [
    "n = 1000 # no. of women to simulate\n",
    "\n",
    "# The probability matrix (P)\n",
    "P = np.array([[0.9915, 0.005, 0.0025, 0, 0.001],\n",
    "              [0, 0.986, 0.005, 0.004, 0.005],\n",
    "              [0, 0, 0.992, 0.003, 0.005],\n",
    "              [0, 0, 0, 0.991, 0.009], \n",
    "              [0, 0, 0, 0, 1]])\n",
    "\n",
    "# Simulation for a single patient\n",
    "def simulate_patient(P, X0=0): # X0 = 0 - All start in state 0 (Healthy)\n",
    "    state = X0\n",
    "    seq_state = [state] # list to record all the states the patient visits during the simulation. patient starts in state so thats added first. New states will be appended to this list — each representing the patient's next health state at the next month.\n",
    "    while state !=4:\n",
    "        state = np.random.choice(range(0,5), p=P[state])\n",
    "        seq_state.append(state)\n",
    "    return seq_state\n",
    "\n",
    "test_path = simulate_patient(P)\n",
    "#print(test_path[0])\n",
    "#print(test_path[-1])\n",
    "\n",
    "# Simulate all 1000 patients\n",
    "all_patient_journey = [] # list of 1000 lists — one per patient\n",
    "\n",
    "for _ in range(n):\n",
    "    patient_journey = simulate_patient(P)\n",
    "    all_patient_journey.append(patient_journey)\n",
    "\n",
    "lifetimes = []          # no. of transitions until death (in months)\n",
    "local_recurrences = 0   # counter for how many had local recurrence (state 1)\n",
    "\n",
    "for journey in all_patient_journey:\n",
    "    lifetime = len(journey) - 1 # exclude initial state\n",
    "    lifetimes.append(lifetime)\n",
    "\n",
    "    if 1 in journey: # Check if patient ever visited state 1 (local recurrence)\n",
    "        local_recurrences +=1\n",
    "\n",
    "# Compute the proportion of patients who had local recurrence\n",
    "proportion_local_recurrence = local_recurrences / n\n",
    "print(f\"The proportion of women with local recurrence is: {proportion_local_recurrence:.4f}\")\n",
    "# variance\n"
   ]
  },
  {
   "cell_type": "code",
   "execution_count": 48,
   "id": "0768bff8",
   "metadata": {},
   "outputs": [
    {
     "data": {
      "image/png": "[encoded data removed]",
      "text/plain": [
       "<Figure size 640x480 with 1 Axes>"
      ]
     },
     "metadata": {},
     "output_type": "display_data"
    }
   ],
   "source": [
    "import matplotlib.pyplot as plt\n",
    "\n",
    "plt.hist(lifetimes, bins=30, color='skyblue', edgecolor='black')\n",
    "plt.title(\"Hist. lifetime distribution of women after surgery\")\n",
    "plt.xlabel(\"Months\")\n",
    "plt.ylabel(\"No. Surviving Women\")\n",
    "plt.grid(True)\n",
    "plt.show()"
   ]
  },
  {
   "cell_type": "markdown",
   "id": "e22e6349",
   "metadata": {},
   "source": [
    "Simulations can be validated by ensuring they are consistent with analytical\n",
    "results. One way to do this, is to ensure the distribution over the states at a\n",
    "certain time is consistent with what we expect."
   ]
  },
  {
   "cell_type": "markdown",
   "id": "c8fdc920",
   "metadata": {},
   "source": [
    "#### Analytical solution"
   ]
  },
  {
   "cell_type": "markdown",
   "id": "ea822290",
   "metadata": {},
   "source": [
    "find the empirical distribution of $X_{120}$. This is compared to the theoretical distribution $$ p_{t} = p_{o} * p^{t}$$"
   ]
  },
  {
   "cell_type": "code",
   "execution_count": 58,
   "id": "623d890a",
   "metadata": {},
   "outputs": [],
   "source": [
    "import numpy as np\n",
    "import matplotlib.pyplot as plt\n",
    "from collections import Counter\n",
    "\n",
    "# Parameters\n",
    "n = 1000\n",
    "t = 120  # Month at which to evaluate distributions\n",
    "\n",
    "# Transition matrix\n",
    "P = np.array([\n",
    "    [0.9915, 0.005, 0.0025, 0.0,    0.001],\n",
    "    [0.0,    0.986, 0.005,  0.004,  0.005],\n",
    "    [0.0,    0.0,   0.992,  0.003,  0.005],\n",
    "    [0.0,    0.0,   0.0,    0.991,  0.009],\n",
    "    [0.0,    0.0,   0.0,    0.0,    1.0]\n",
    "])\n",
    "\n",
    "# Simulation function up to time t\n",
    "def simulate_patient_fixed_t(P, t=120, X0=0):\n",
    "    state = X0\n",
    "    for _ in range(t):\n",
    "        if state == 4:  # death\n",
    "            break\n",
    "        state = np.random.choice(range(5), p=P[state])\n",
    "    return state\n",
    "\n",
    "# Simulate final states of all patients at time t\n",
    "#final_states = [simulate_patient_fixed_t(P, t=t) for _ in range(n)]\n",
    "\n",
    "final_states = []\n",
    "for _ in range(n):\n",
    "    state = simulate_patient_fixed_t(P, t=t) # Simulate one patient up to time t\n",
    "    final_states.append(state)\n",
    "\n",
    "# Empirical distribution\n",
    "counts = Counter(final_states)\n",
    "empirical_distribution = [counts.get(i, 0) / n for i in range(5)]\n",
    "\n",
    "# Theoretical distribution using matrix exponentiation\n",
    "p0 = np.array([1, 0, 0, 0, 0])\n",
    "Pt = np.linalg.matrix_power(P, t)\n",
    "theoretical_distribution = np.dot(p0, Pt)\n"
   ]
  },
  {
   "cell_type": "code",
   "execution_count": 57,
   "id": "7f8498cf",
   "metadata": {},
   "outputs": [
    {
     "name": "stdout",
     "output_type": "stream",
     "text": [
      "State     Empirical      Theortical     \n",
      "State 0    0.365           0.359          \n",
      "State 1    0.149           0.159          \n",
      "State 2    0.16            0.1661         \n",
      "State 3    0.071           0.0677         \n",
      "State 4    0.255           0.2482         \n"
     ]
    }
   ],
   "source": [
    "print(f\"{'State':<10}{'Empirical':<15}{'Theortical':<15}\")\n",
    "for i in range(5):\n",
    "    state = f\"State {i}\"\n",
    "    emp = round(empirical_distribution[i], 4)\n",
    "    theo = round(theoretical_distribution[i], 4)\n",
    "    print(f\"{state:<10} {emp:<15} {theo:<15}\")\n"
   ]
  },
  {
   "cell_type": "code",
   "execution_count": 59,
   "id": "9cc27fa3",
   "metadata": {},
   "outputs": [
    {
     "data": {
      "image/png": "[encoded data removed]",
      "text/plain": [
       "<Figure size 800x500 with 1 Axes>"
      ]
     },
     "metadata": {},
     "output_type": "display_data"
    }
   ],
   "source": [
    "\n",
    "# Plotting\n",
    "labels = [f\"State {i}\" for i in range(5)]\n",
    "x = np.arange(len(labels))\n",
    "\n",
    "plt.figure(figsize=(8, 5))\n",
    "bar_width = 0.35\n",
    "plt.bar(x - bar_width/2, empirical_distribution, bar_width, label=\"Empirical\", color='skyblue')\n",
    "plt.bar(x + bar_width/2, theoretical_distribution, bar_width, label=\"Theoretical\", color='orange')\n",
    "\n",
    "plt.xticks(x, labels)\n",
    "plt.ylabel(\"Proportion\")\n",
    "plt.title(\"Empirical vs Theoretical Distribution at t = 120\")\n",
    "plt.legend()\n",
    "plt.grid(True, linestyle='--', alpha=0.6)\n",
    "plt.tight_layout()\n",
    "plt.show()"
   ]
  },
  {
   "cell_type": "markdown",
   "id": "f518127a",
   "metadata": {},
   "source": [
    "We can use a $\\chi^2$-test and obtain a test statistic which can then be compared with a $\\chi^2$ distribution with $df = n_{\\mathrm{classes}} - 1$ degrees of freedom. \n",
    "\n",
    "$$\n",
    "T = \\sum^{n_{\\mathrm{classes}}}_{i=1} \\frac{ ( n_{\\mathrm{observed},i} - n_{\\mathrm{expected},i} )^2 }{ n_{\\mathrm{expected},i} }\n",
    "$$\n",
    "\n",
    "We make the following observations:\n",
    "- If $\\chi^2_{observed}>\\chi^2_{critical}$ we can reject the null hypothesis that the two samples come from the same distribution.\n",
    "- The p-value in the context of a $\\chi^2$ test represents the probability of observing a $\\chi^2$ statistic as extreme as, or more extreme than, the observed value under the null hypothesis.\n"
   ]
  },
  {
   "cell_type": "code",
   "execution_count": 50,
   "id": "3d3f9ac2",
   "metadata": {},
   "outputs": [],
   "source": [
    "from scipy.stats import chi2"
   ]
  },
  {
   "cell_type": "markdown",
   "id": "5519709c",
   "metadata": {},
   "source": [
    "#### $\\chi^2$-test: Direct method"
   ]
  },
  {
   "cell_type": "code",
   "execution_count": null,
   "id": "a99485cd",
   "metadata": {},
   "outputs": [
    {
     "name": "stdout",
     "output_type": "stream",
     "text": [
      "The observed test statistic is: 1.9355\n",
      "[359.02626821 158.95603979 166.08689731  67.74149395 248.18930075]\n",
      "The critical value is: 9.4877\n",
      "The p-value is: 0.7476\n",
      "✅ The distributions are not significantly different (fail to reject H0).\n",
      "The critical value is: 9.487729036781154\n",
      "The p-value is: 0.7476297996261787\n"
     ]
    }
   ],
   "source": [
    "# Total number of patients\n",
    "n = 1000\n",
    "\n",
    "# Observed counts from simulation (empirical)\n",
    "observed_counts = np.array([count for count in Counter(final_states).values()])\n",
    "# Ensure the order of states 0–4\n",
    "observed_counts = np.array([Counter(final_states).get(i, 0) for i in range(5)])\n",
    "\n",
    "# Expected counts from theoretical distribution\n",
    "expected_counts = n * theoretical_distribution\n",
    "\n",
    "# Compute test statistic\n",
    "T = np.sum((observed_counts - expected_counts)**2 / expected_counts)\n",
    "print(\"The observed test statistic is:\", round(T, 4))\n",
    "\n",
    "# Degrees of freedom\n",
    "df = len(expected_counts) - 1  # no estimated parameters, so m = 0\n",
    "alpha = 0.05\n",
    "\n",
    "# Critical value\n",
    "critical_value = chi2.ppf(1 - alpha, df)\n",
    "print(\"The critical value is:\", round(critical_value, 4))\n",
    "\n",
    "# p-value\n",
    "p_value = chi2.sf(T, df)\n",
    "print(\"The p-value is:\", round(p_value, 4))\n",
    "\n",
    "# Interpretation\n",
    "if p_value > alpha:\n",
    "    print(\"✅ The distributions are not significantly different (fail to reject H0).\")\n",
    "else:\n",
    "    print(\"❌ The distributions are significantly different (reject H0).\")\n",
    "\n",
    "# Degrees of freedom\n",
    "df = len(expected_counts) - 1\n",
    "\n",
    "# Significance level\n",
    "alpha = 0.05\n",
    "\n",
    "# Calculate critical value\n",
    "chi_squared = chi2.ppf(1 - alpha, df)\n",
    "print(\"The critical value is:\", chi_squared)\n",
    "\n",
    "# Calculate the p-value under the observed test statistic\n",
    "p_value = chi2.sf(T, df)\n",
    "print(\"The p-value is:\", p_value)"
   ]
  },
  {
   "cell_type": "markdown",
   "id": "44715375",
   "metadata": {},
   "source": [
    "We fail to reject the null hypothesis $H_{0}=0$ (i.e., there is no significant difference between distributions) as $\\chi^2_{observed}<\\chi^2_{critical}$. This result is also supported by the high p-value (𝑝=0.7476), indicating strong agreement between the empirical and theoretical distributions."
   ]
  }
 ],
 "metadata": {
  "kernelspec": {
   "display_name": "timesfm-env",
   "language": "python",
   "name": "python3"
  },
  "language_info": {
   "codemirror_mode": {
    "name": "ipython",
    "version": 3
   },
   "file_extension": ".py",
   "mimetype": "text/x-python",
   "name": "python",
   "nbconvert_exporter": "python",
   "pygments_lexer": "ipython3",
   "version": "3.10.16"
  }
 },
 "nbformat": 4,
 "nbformat_minor": 5
}
